{
 "cells": [
  {
   "cell_type": "code",
   "execution_count": 1,
   "metadata": {
    "collapsed": true
   },
   "outputs": [],
   "source": [
    "import pandas as pd\n",
    "import time\n",
    "import seaborn as sns\n",
    "import matplotlib.pyplot as plt\n",
    "import datetime\n",
    "import numpy as np"
   ]
  },
  {
   "cell_type": "code",
   "execution_count": 2,
   "metadata": {
    "collapsed": false
   },
   "outputs": [
    {
     "data": {
      "text/html": [
       "<div>\n",
       "<style>\n",
       "    .dataframe thead tr:only-child th {\n",
       "        text-align: right;\n",
       "    }\n",
       "\n",
       "    .dataframe thead th {\n",
       "        text-align: left;\n",
       "    }\n",
       "\n",
       "    .dataframe tbody tr th {\n",
       "        vertical-align: top;\n",
       "    }\n",
       "</style>\n",
       "<table border=\"1\" class=\"dataframe\">\n",
       "  <thead>\n",
       "    <tr style=\"text-align: right;\">\n",
       "      <th></th>\n",
       "      <th>Date</th>\n",
       "      <th>Open</th>\n",
       "      <th>High</th>\n",
       "      <th>Low</th>\n",
       "      <th>Close</th>\n",
       "      <th>Volume</th>\n",
       "      <th>Market Cap</th>\n",
       "    </tr>\n",
       "  </thead>\n",
       "  <tbody>\n",
       "    <tr>\n",
       "      <th>0</th>\n",
       "      <td>2018-03-24</td>\n",
       "      <td>8901.95</td>\n",
       "      <td>8996.18</td>\n",
       "      <td>8665.70</td>\n",
       "      <td>8668.12</td>\n",
       "      <td>5664600000</td>\n",
       "      <td>150762000000</td>\n",
       "    </tr>\n",
       "    <tr>\n",
       "      <th>1</th>\n",
       "      <td>2018-03-23</td>\n",
       "      <td>8736.25</td>\n",
       "      <td>8879.62</td>\n",
       "      <td>8360.62</td>\n",
       "      <td>8879.62</td>\n",
       "      <td>5954120000</td>\n",
       "      <td>147941000000</td>\n",
       "    </tr>\n",
       "    <tr>\n",
       "      <th>2</th>\n",
       "      <td>2018-03-22</td>\n",
       "      <td>8939.44</td>\n",
       "      <td>9100.71</td>\n",
       "      <td>8564.90</td>\n",
       "      <td>8728.47</td>\n",
       "      <td>5530390000</td>\n",
       "      <td>151366000000</td>\n",
       "    </tr>\n",
       "    <tr>\n",
       "      <th>3</th>\n",
       "      <td>2018-03-21</td>\n",
       "      <td>8937.48</td>\n",
       "      <td>9177.37</td>\n",
       "      <td>8846.33</td>\n",
       "      <td>8929.28</td>\n",
       "      <td>6043130000</td>\n",
       "      <td>151316000000</td>\n",
       "    </tr>\n",
       "    <tr>\n",
       "      <th>4</th>\n",
       "      <td>2018-03-20</td>\n",
       "      <td>8619.67</td>\n",
       "      <td>9051.02</td>\n",
       "      <td>8389.89</td>\n",
       "      <td>8913.47</td>\n",
       "      <td>6361790000</td>\n",
       "      <td>145922000000</td>\n",
       "    </tr>\n",
       "  </tbody>\n",
       "</table>\n",
       "</div>"
      ],
      "text/plain": [
       "        Date     Open     High      Low    Close      Volume    Market Cap\n",
       "0 2018-03-24  8901.95  8996.18  8665.70  8668.12  5664600000  150762000000\n",
       "1 2018-03-23  8736.25  8879.62  8360.62  8879.62  5954120000  147941000000\n",
       "2 2018-03-22  8939.44  9100.71  8564.90  8728.47  5530390000  151366000000\n",
       "3 2018-03-21  8937.48  9177.37  8846.33  8929.28  6043130000  151316000000\n",
       "4 2018-03-20  8619.67  9051.02  8389.89  8913.47  6361790000  145922000000"
      ]
     },
     "execution_count": 2,
     "metadata": {},
     "output_type": "execute_result"
    }
   ],
   "source": [
    "# get market info for bitcoin from the start of 2016 to the current day\n",
    "bitcoin_market_info = pd.read_html(\"https://coinmarketcap.com/currencies/bitcoin/historical-data/?start=20130428&end=\"+time.strftime(\"%Y%m%d\"),flavor='html5lib')[0]\n",
    "# convert the date string to the correct date format\n",
    "bitcoin_market_info = bitcoin_market_info.assign(Date=pd.to_datetime(bitcoin_market_info['Date']))\n",
    "# when Volume is equal to '-' convert it to 0\n",
    "bitcoin_market_info.loc[bitcoin_market_info['Volume']==\"-\",'Volume']=0\n",
    "# convert to int\n",
    "bitcoin_market_info['Volume'] = bitcoin_market_info['Volume'].astype('int64')\n",
    "# look at the first few rows\n",
    "bitcoin_market_info.head()"
   ]
  },
  {
   "cell_type": "code",
   "execution_count": 3,
   "metadata": {
    "collapsed": false
   },
   "outputs": [
    {
     "data": {
      "text/html": [
       "<div>\n",
       "<style>\n",
       "    .dataframe thead tr:only-child th {\n",
       "        text-align: right;\n",
       "    }\n",
       "\n",
       "    .dataframe thead th {\n",
       "        text-align: left;\n",
       "    }\n",
       "\n",
       "    .dataframe tbody tr th {\n",
       "        vertical-align: top;\n",
       "    }\n",
       "</style>\n",
       "<table border=\"1\" class=\"dataframe\">\n",
       "  <thead>\n",
       "    <tr style=\"text-align: right;\">\n",
       "      <th></th>\n",
       "      <th>Date</th>\n",
       "      <th>Open</th>\n",
       "      <th>High</th>\n",
       "      <th>Low</th>\n",
       "      <th>Close</th>\n",
       "      <th>Volume</th>\n",
       "      <th>Market Cap</th>\n",
       "    </tr>\n",
       "  </thead>\n",
       "  <tbody>\n",
       "    <tr>\n",
       "      <th>0</th>\n",
       "      <td>2018-03-24</td>\n",
       "      <td>542.57</td>\n",
       "      <td>545.38</td>\n",
       "      <td>526.08</td>\n",
       "      <td>526.44</td>\n",
       "      <td>1300010000</td>\n",
       "      <td>53375400000</td>\n",
       "    </tr>\n",
       "    <tr>\n",
       "      <th>1</th>\n",
       "      <td>2018-03-23</td>\n",
       "      <td>539.86</td>\n",
       "      <td>540.49</td>\n",
       "      <td>512.13</td>\n",
       "      <td>539.62</td>\n",
       "      <td>1596350000</td>\n",
       "      <td>53098100000</td>\n",
       "    </tr>\n",
       "    <tr>\n",
       "      <th>2</th>\n",
       "      <td>2018-03-22</td>\n",
       "      <td>562.10</td>\n",
       "      <td>577.57</td>\n",
       "      <td>523.09</td>\n",
       "      <td>539.70</td>\n",
       "      <td>1523460000</td>\n",
       "      <td>55273800000</td>\n",
       "    </tr>\n",
       "    <tr>\n",
       "      <th>3</th>\n",
       "      <td>2018-03-21</td>\n",
       "      <td>559.10</td>\n",
       "      <td>589.61</td>\n",
       "      <td>550.57</td>\n",
       "      <td>561.73</td>\n",
       "      <td>1781270000</td>\n",
       "      <td>54967300000</td>\n",
       "    </tr>\n",
       "    <tr>\n",
       "      <th>4</th>\n",
       "      <td>2018-03-20</td>\n",
       "      <td>556.72</td>\n",
       "      <td>567.09</td>\n",
       "      <td>521.20</td>\n",
       "      <td>557.17</td>\n",
       "      <td>1833680000</td>\n",
       "      <td>54722100000</td>\n",
       "    </tr>\n",
       "  </tbody>\n",
       "</table>\n",
       "</div>"
      ],
      "text/plain": [
       "        Date    Open    High     Low   Close      Volume   Market Cap\n",
       "0 2018-03-24  542.57  545.38  526.08  526.44  1300010000  53375400000\n",
       "1 2018-03-23  539.86  540.49  512.13  539.62  1596350000  53098100000\n",
       "2 2018-03-22  562.10  577.57  523.09  539.70  1523460000  55273800000\n",
       "3 2018-03-21  559.10  589.61  550.57  561.73  1781270000  54967300000\n",
       "4 2018-03-20  556.72  567.09  521.20  557.17  1833680000  54722100000"
      ]
     },
     "execution_count": 3,
     "metadata": {},
     "output_type": "execute_result"
    }
   ],
   "source": [
    "# get market info for ethereum from the start of 2016 to the current day\n",
    "eth_market_info = pd.read_html(\"https://coinmarketcap.com/currencies/ethereum/historical-data/?start=20130428&end=\"+time.strftime(\"%Y%m%d\"),flavor='html5lib')[0]\n",
    "# convert the date string to the correct date format\n",
    "eth_market_info = eth_market_info.assign(Date=pd.to_datetime(eth_market_info['Date']))\n",
    "# look at the first few rows\n",
    "eth_market_info.head()"
   ]
  },
  {
   "cell_type": "code",
   "execution_count": 4,
   "metadata": {
    "collapsed": true
   },
   "outputs": [],
   "source": [
    "bitcoin_market_info.columns =[bitcoin_market_info.columns[0]]+['bt_'+i for i in bitcoin_market_info.columns[1:]]\n",
    "eth_market_info.columns =[eth_market_info.columns[0]]+['eth_'+i for i in eth_market_info.columns[1:]]"
   ]
  },
  {
   "cell_type": "code",
   "execution_count": 5,
   "metadata": {
    "collapsed": false
   },
   "outputs": [
    {
     "data": {
      "text/html": [
       "<div>\n",
       "<style>\n",
       "    .dataframe thead tr:only-child th {\n",
       "        text-align: right;\n",
       "    }\n",
       "\n",
       "    .dataframe thead th {\n",
       "        text-align: left;\n",
       "    }\n",
       "\n",
       "    .dataframe tbody tr th {\n",
       "        vertical-align: top;\n",
       "    }\n",
       "</style>\n",
       "<table border=\"1\" class=\"dataframe\">\n",
       "  <thead>\n",
       "    <tr style=\"text-align: right;\">\n",
       "      <th></th>\n",
       "      <th>Date</th>\n",
       "      <th>bt_Open</th>\n",
       "      <th>bt_High</th>\n",
       "      <th>bt_Low</th>\n",
       "      <th>bt_Close</th>\n",
       "      <th>bt_Volume</th>\n",
       "      <th>bt_Market Cap</th>\n",
       "      <th>eth_Open</th>\n",
       "      <th>eth_High</th>\n",
       "      <th>eth_Low</th>\n",
       "      <th>eth_Close</th>\n",
       "      <th>eth_Volume</th>\n",
       "      <th>eth_Market Cap</th>\n",
       "      <th>bt_day_diff</th>\n",
       "      <th>eth_day_diff</th>\n",
       "    </tr>\n",
       "  </thead>\n",
       "  <tbody>\n",
       "    <tr>\n",
       "      <th>0</th>\n",
       "      <td>2018-03-24</td>\n",
       "      <td>8901.95</td>\n",
       "      <td>8996.18</td>\n",
       "      <td>8665.70</td>\n",
       "      <td>8668.12</td>\n",
       "      <td>5664600000</td>\n",
       "      <td>150762000000</td>\n",
       "      <td>542.57</td>\n",
       "      <td>545.38</td>\n",
       "      <td>526.08</td>\n",
       "      <td>526.44</td>\n",
       "      <td>1300010000</td>\n",
       "      <td>53375400000</td>\n",
       "      <td>-0.026267</td>\n",
       "      <td>-0.029729</td>\n",
       "    </tr>\n",
       "    <tr>\n",
       "      <th>1</th>\n",
       "      <td>2018-03-23</td>\n",
       "      <td>8736.25</td>\n",
       "      <td>8879.62</td>\n",
       "      <td>8360.62</td>\n",
       "      <td>8879.62</td>\n",
       "      <td>5954120000</td>\n",
       "      <td>147941000000</td>\n",
       "      <td>539.86</td>\n",
       "      <td>540.49</td>\n",
       "      <td>512.13</td>\n",
       "      <td>539.62</td>\n",
       "      <td>1596350000</td>\n",
       "      <td>53098100000</td>\n",
       "      <td>0.016411</td>\n",
       "      <td>-0.000445</td>\n",
       "    </tr>\n",
       "    <tr>\n",
       "      <th>2</th>\n",
       "      <td>2018-03-22</td>\n",
       "      <td>8939.44</td>\n",
       "      <td>9100.71</td>\n",
       "      <td>8564.90</td>\n",
       "      <td>8728.47</td>\n",
       "      <td>5530390000</td>\n",
       "      <td>151366000000</td>\n",
       "      <td>562.10</td>\n",
       "      <td>577.57</td>\n",
       "      <td>523.09</td>\n",
       "      <td>539.70</td>\n",
       "      <td>1523460000</td>\n",
       "      <td>55273800000</td>\n",
       "      <td>-0.023600</td>\n",
       "      <td>-0.039851</td>\n",
       "    </tr>\n",
       "    <tr>\n",
       "      <th>3</th>\n",
       "      <td>2018-03-21</td>\n",
       "      <td>8937.48</td>\n",
       "      <td>9177.37</td>\n",
       "      <td>8846.33</td>\n",
       "      <td>8929.28</td>\n",
       "      <td>6043130000</td>\n",
       "      <td>151316000000</td>\n",
       "      <td>559.10</td>\n",
       "      <td>589.61</td>\n",
       "      <td>550.57</td>\n",
       "      <td>561.73</td>\n",
       "      <td>1781270000</td>\n",
       "      <td>54967300000</td>\n",
       "      <td>-0.000917</td>\n",
       "      <td>0.004704</td>\n",
       "    </tr>\n",
       "    <tr>\n",
       "      <th>4</th>\n",
       "      <td>2018-03-20</td>\n",
       "      <td>8619.67</td>\n",
       "      <td>9051.02</td>\n",
       "      <td>8389.89</td>\n",
       "      <td>8913.47</td>\n",
       "      <td>6361790000</td>\n",
       "      <td>145922000000</td>\n",
       "      <td>556.72</td>\n",
       "      <td>567.09</td>\n",
       "      <td>521.20</td>\n",
       "      <td>557.17</td>\n",
       "      <td>1833680000</td>\n",
       "      <td>54722100000</td>\n",
       "      <td>0.034085</td>\n",
       "      <td>0.000808</td>\n",
       "    </tr>\n",
       "  </tbody>\n",
       "</table>\n",
       "</div>"
      ],
      "text/plain": [
       "        Date  bt_Open  bt_High   bt_Low  bt_Close   bt_Volume  bt_Market Cap  \\\n",
       "0 2018-03-24  8901.95  8996.18  8665.70   8668.12  5664600000   150762000000   \n",
       "1 2018-03-23  8736.25  8879.62  8360.62   8879.62  5954120000   147941000000   \n",
       "2 2018-03-22  8939.44  9100.71  8564.90   8728.47  5530390000   151366000000   \n",
       "3 2018-03-21  8937.48  9177.37  8846.33   8929.28  6043130000   151316000000   \n",
       "4 2018-03-20  8619.67  9051.02  8389.89   8913.47  6361790000   145922000000   \n",
       "\n",
       "   eth_Open  eth_High  eth_Low  eth_Close  eth_Volume eth_Market Cap  \\\n",
       "0    542.57    545.38   526.08     526.44  1300010000    53375400000   \n",
       "1    539.86    540.49   512.13     539.62  1596350000    53098100000   \n",
       "2    562.10    577.57   523.09     539.70  1523460000    55273800000   \n",
       "3    559.10    589.61   550.57     561.73  1781270000    54967300000   \n",
       "4    556.72    567.09   521.20     557.17  1833680000    54722100000   \n",
       "\n",
       "   bt_day_diff  eth_day_diff  \n",
       "0    -0.026267     -0.029729  \n",
       "1     0.016411     -0.000445  \n",
       "2    -0.023600     -0.039851  \n",
       "3    -0.000917      0.004704  \n",
       "4     0.034085      0.000808  "
      ]
     },
     "execution_count": 5,
     "metadata": {},
     "output_type": "execute_result"
    }
   ],
   "source": [
    "\n",
    "market_info = pd.merge(bitcoin_market_info,eth_market_info, on=['Date'])\n",
    "market_info = market_info[market_info['Date']>='2016-01-01']\n",
    "for coins in ['bt_', 'eth_']: \n",
    "    kwargs = { coins+'day_diff': lambda x: (x[coins+'Close']-x[coins+'Open'])/x[coins+'Open']}\n",
    "    market_info = market_info.assign(**kwargs)\n",
    "market_info.head()"
   ]
  },
  {
   "cell_type": "code",
   "execution_count": 6,
   "metadata": {
    "collapsed": true
   },
   "outputs": [],
   "source": [
    "for coins in ['bt_', 'eth_']: \n",
    "    kwargs = { coins+'close_off_high': lambda x: 2*(x[coins+'High']- x[coins+'Close'])/(x[coins+'High']-x[coins+'Low'])-1,\n",
    "            coins+'volatility': lambda x: (x[coins+'High']- x[coins+'Low'])/(x[coins+'Open'])}\n",
    "    market_info = market_info.assign(**kwargs)"
   ]
  },
  {
   "cell_type": "code",
   "execution_count": 7,
   "metadata": {
    "collapsed": false
   },
   "outputs": [
    {
     "data": {
      "text/html": [
       "<div>\n",
       "<style>\n",
       "    .dataframe thead tr:only-child th {\n",
       "        text-align: right;\n",
       "    }\n",
       "\n",
       "    .dataframe thead th {\n",
       "        text-align: left;\n",
       "    }\n",
       "\n",
       "    .dataframe tbody tr th {\n",
       "        vertical-align: top;\n",
       "    }\n",
       "</style>\n",
       "<table border=\"1\" class=\"dataframe\">\n",
       "  <thead>\n",
       "    <tr style=\"text-align: right;\">\n",
       "      <th></th>\n",
       "      <th>Date</th>\n",
       "      <th>bt_Close</th>\n",
       "      <th>bt_Volume</th>\n",
       "      <th>bt_close_off_high</th>\n",
       "      <th>bt_volatility</th>\n",
       "      <th>eth_Close</th>\n",
       "      <th>eth_Volume</th>\n",
       "      <th>eth_close_off_high</th>\n",
       "      <th>eth_volatility</th>\n",
       "    </tr>\n",
       "  </thead>\n",
       "  <tbody>\n",
       "    <tr>\n",
       "      <th>813</th>\n",
       "      <td>2016-01-01</td>\n",
       "      <td>434.33</td>\n",
       "      <td>36278900</td>\n",
       "      <td>-0.560641</td>\n",
       "      <td>0.020292</td>\n",
       "      <td>0.948024</td>\n",
       "      <td>206062</td>\n",
       "      <td>-0.418477</td>\n",
       "      <td>0.025040</td>\n",
       "    </tr>\n",
       "    <tr>\n",
       "      <th>812</th>\n",
       "      <td>2016-01-02</td>\n",
       "      <td>433.44</td>\n",
       "      <td>30096600</td>\n",
       "      <td>0.250597</td>\n",
       "      <td>0.009641</td>\n",
       "      <td>0.937124</td>\n",
       "      <td>255504</td>\n",
       "      <td>0.965898</td>\n",
       "      <td>0.034913</td>\n",
       "    </tr>\n",
       "    <tr>\n",
       "      <th>811</th>\n",
       "      <td>2016-01-03</td>\n",
       "      <td>430.01</td>\n",
       "      <td>39633800</td>\n",
       "      <td>-0.173865</td>\n",
       "      <td>0.020827</td>\n",
       "      <td>0.971905</td>\n",
       "      <td>407632</td>\n",
       "      <td>-0.317885</td>\n",
       "      <td>0.060792</td>\n",
       "    </tr>\n",
       "    <tr>\n",
       "      <th>810</th>\n",
       "      <td>2016-01-04</td>\n",
       "      <td>433.09</td>\n",
       "      <td>38477500</td>\n",
       "      <td>-0.474265</td>\n",
       "      <td>0.012649</td>\n",
       "      <td>0.954480</td>\n",
       "      <td>346245</td>\n",
       "      <td>-0.057657</td>\n",
       "      <td>0.047943</td>\n",
       "    </tr>\n",
       "    <tr>\n",
       "      <th>809</th>\n",
       "      <td>2016-01-05</td>\n",
       "      <td>431.96</td>\n",
       "      <td>34522600</td>\n",
       "      <td>-0.013333</td>\n",
       "      <td>0.010391</td>\n",
       "      <td>0.950176</td>\n",
       "      <td>219833</td>\n",
       "      <td>0.697930</td>\n",
       "      <td>0.025236</td>\n",
       "    </tr>\n",
       "  </tbody>\n",
       "</table>\n",
       "</div>"
      ],
      "text/plain": [
       "          Date  bt_Close  bt_Volume  bt_close_off_high  bt_volatility  \\\n",
       "813 2016-01-01    434.33   36278900          -0.560641       0.020292   \n",
       "812 2016-01-02    433.44   30096600           0.250597       0.009641   \n",
       "811 2016-01-03    430.01   39633800          -0.173865       0.020827   \n",
       "810 2016-01-04    433.09   38477500          -0.474265       0.012649   \n",
       "809 2016-01-05    431.96   34522600          -0.013333       0.010391   \n",
       "\n",
       "     eth_Close  eth_Volume  eth_close_off_high  eth_volatility  \n",
       "813   0.948024      206062           -0.418477        0.025040  \n",
       "812   0.937124      255504            0.965898        0.034913  \n",
       "811   0.971905      407632           -0.317885        0.060792  \n",
       "810   0.954480      346245           -0.057657        0.047943  \n",
       "809   0.950176      219833            0.697930        0.025236  "
      ]
     },
     "execution_count": 7,
     "metadata": {},
     "output_type": "execute_result"
    }
   ],
   "source": [
    "model_data = market_info[['Date']+[coin+metric for coin in ['bt_', 'eth_'] \n",
    "                                   for metric in ['Close','Volume','close_off_high','volatility']]]\n",
    "# need to reverse the data frame so that subsequent rows represent later timepoints\n",
    "model_data = model_data.sort_values(by='Date')\n",
    "model_data.head()"
   ]
  },
  {
   "cell_type": "code",
   "execution_count": 8,
   "metadata": {
    "collapsed": true
   },
   "outputs": [],
   "source": [
    "#Training / Test Set Split"
   ]
  },
  {
   "cell_type": "code",
   "execution_count": 9,
   "metadata": {
    "collapsed": false
   },
   "outputs": [],
   "source": [
    "split_date = '2017-06-01'\n",
    "training_set, test_set = model_data[model_data[\"Date\"]<split_date], model_data[model_data['Date']>= split_date]\n",
    "training_set = training_set.drop('Date',1)\n",
    "test_set = test_set.drop('Date',1)"
   ]
  },
  {
   "cell_type": "code",
   "execution_count": 10,
   "metadata": {
    "collapsed": false
   },
   "outputs": [
    {
     "data": {
      "text/html": [
       "<div>\n",
       "<style>\n",
       "    .dataframe thead tr:only-child th {\n",
       "        text-align: right;\n",
       "    }\n",
       "\n",
       "    .dataframe thead th {\n",
       "        text-align: left;\n",
       "    }\n",
       "\n",
       "    .dataframe tbody tr th {\n",
       "        vertical-align: top;\n",
       "    }\n",
       "</style>\n",
       "<table border=\"1\" class=\"dataframe\">\n",
       "  <thead>\n",
       "    <tr style=\"text-align: right;\">\n",
       "      <th></th>\n",
       "      <th>bt_Close</th>\n",
       "      <th>bt_Volume</th>\n",
       "      <th>bt_close_off_high</th>\n",
       "      <th>bt_volatility</th>\n",
       "      <th>eth_Close</th>\n",
       "      <th>eth_Volume</th>\n",
       "      <th>eth_close_off_high</th>\n",
       "      <th>eth_volatility</th>\n",
       "    </tr>\n",
       "  </thead>\n",
       "  <tbody>\n",
       "    <tr>\n",
       "      <th>813</th>\n",
       "      <td>434.33</td>\n",
       "      <td>36278900</td>\n",
       "      <td>-0.560641</td>\n",
       "      <td>0.020292</td>\n",
       "      <td>0.948024</td>\n",
       "      <td>206062</td>\n",
       "      <td>-0.418477</td>\n",
       "      <td>0.025040</td>\n",
       "    </tr>\n",
       "    <tr>\n",
       "      <th>812</th>\n",
       "      <td>433.44</td>\n",
       "      <td>30096600</td>\n",
       "      <td>0.250597</td>\n",
       "      <td>0.009641</td>\n",
       "      <td>0.937124</td>\n",
       "      <td>255504</td>\n",
       "      <td>0.965898</td>\n",
       "      <td>0.034913</td>\n",
       "    </tr>\n",
       "    <tr>\n",
       "      <th>811</th>\n",
       "      <td>430.01</td>\n",
       "      <td>39633800</td>\n",
       "      <td>-0.173865</td>\n",
       "      <td>0.020827</td>\n",
       "      <td>0.971905</td>\n",
       "      <td>407632</td>\n",
       "      <td>-0.317885</td>\n",
       "      <td>0.060792</td>\n",
       "    </tr>\n",
       "    <tr>\n",
       "      <th>810</th>\n",
       "      <td>433.09</td>\n",
       "      <td>38477500</td>\n",
       "      <td>-0.474265</td>\n",
       "      <td>0.012649</td>\n",
       "      <td>0.954480</td>\n",
       "      <td>346245</td>\n",
       "      <td>-0.057657</td>\n",
       "      <td>0.047943</td>\n",
       "    </tr>\n",
       "    <tr>\n",
       "      <th>809</th>\n",
       "      <td>431.96</td>\n",
       "      <td>34522600</td>\n",
       "      <td>-0.013333</td>\n",
       "      <td>0.010391</td>\n",
       "      <td>0.950176</td>\n",
       "      <td>219833</td>\n",
       "      <td>0.697930</td>\n",
       "      <td>0.025236</td>\n",
       "    </tr>\n",
       "  </tbody>\n",
       "</table>\n",
       "</div>"
      ],
      "text/plain": [
       "     bt_Close  bt_Volume  bt_close_off_high  bt_volatility  eth_Close  \\\n",
       "813    434.33   36278900          -0.560641       0.020292   0.948024   \n",
       "812    433.44   30096600           0.250597       0.009641   0.937124   \n",
       "811    430.01   39633800          -0.173865       0.020827   0.971905   \n",
       "810    433.09   38477500          -0.474265       0.012649   0.954480   \n",
       "809    431.96   34522600          -0.013333       0.010391   0.950176   \n",
       "\n",
       "     eth_Volume  eth_close_off_high  eth_volatility  \n",
       "813      206062           -0.418477        0.025040  \n",
       "812      255504            0.965898        0.034913  \n",
       "811      407632           -0.317885        0.060792  \n",
       "810      346245           -0.057657        0.047943  \n",
       "809      219833            0.697930        0.025236  "
      ]
     },
     "execution_count": 10,
     "metadata": {},
     "output_type": "execute_result"
    }
   ],
   "source": [
    "training_set.head()"
   ]
  },
  {
   "cell_type": "code",
   "execution_count": 28,
   "metadata": {
    "collapsed": false
   },
   "outputs": [],
   "source": [
    "#Window settings for timeseries analysis\n",
    "window_len=10\n",
    "cols_train = training_set.columns\n",
    "cols_test = training_set.columns\n",
    "norm_cols = [coin+metric for coin in ['bt_','eth_'] for metric in ['Close','Volume']]\n",
    "output_cols = [coin+metric for coin in ['bt_','eth_'] for metric in ['Close']]\n",
    "\n",
    "cols_train_ex_norm  = list(filter(lambda x: x not in norm_cols,cols_train))\n",
    "cols_test_ex_norm  = list(filter(lambda x: x not in norm_cols,cols_test))"
   ]
  },
  {
   "cell_type": "code",
   "execution_count": 29,
   "metadata": {
    "collapsed": false
   },
   "outputs": [],
   "source": [
    "#Create normalized windows: training\n",
    "\n",
    "LSTM_training_inputs=[]\n",
    "LSTM_training_outputs=[]\n",
    "for i in range(len(training_set)-window_len):\n",
    "    temp_window=training_set[i:(i+window_len)]\n",
    "    temp_set_in = pd.concat([temp_window[cols_train_ex_norm],(temp_window[norm_cols]/temp_window[norm_cols].iloc[0] -1)],axis=1)\n",
    "    LSTM_training_inputs.append(temp_set_in.fillna(0.0))"
   ]
  },
  {
   "cell_type": "code",
   "execution_count": 65,
   "metadata": {
    "collapsed": false
   },
   "outputs": [],
   "source": [
    "LSTM_training_outputs_bt = (training_set[output_cols[0]][window_len:].values/training_set[output_cols[0]][:-window_len].values)-1\n",
    "LSTM_training_outputs_eth = (training_set[output_cols[1]][window_len:].values/training_set[output_cols[1]][:-window_len].values)-1"
   ]
  },
  {
   "cell_type": "code",
   "execution_count": 71,
   "metadata": {
    "collapsed": false
   },
   "outputs": [
    {
     "name": "stdout",
     "output_type": "stream",
     "text": [
      "     bt_close_off_high  bt_volatility  eth_close_off_high  eth_volatility  \\\n",
      "813          -0.560641       0.020292           -0.418477        0.025040   \n",
      "812           0.250597       0.009641            0.965898        0.034913   \n",
      "811          -0.173865       0.020827           -0.317885        0.060792   \n",
      "810          -0.474265       0.012649           -0.057657        0.047943   \n",
      "809          -0.013333       0.010391            0.697930        0.025236   \n",
      "808          -0.003623       0.012782           -0.214540        0.026263   \n",
      "807          -0.951499       0.069045            0.681644        0.040587   \n",
      "806           0.294196       0.032762           -0.806717        0.055274   \n",
      "805           0.814194       0.017094           -0.411897        0.019021   \n",
      "804          -0.919598       0.017758           -0.938235        0.025266   \n",
      "\n",
      "     bt_Close  bt_Volume  eth_Close  eth_Volume  \n",
      "813  0.000000   0.000000   0.000000    0.000000  \n",
      "812 -0.002049  -0.170410  -0.011498    0.239937  \n",
      "811 -0.009946   0.092475   0.025190    0.978201  \n",
      "810 -0.002855   0.060603   0.006810    0.680295  \n",
      "809 -0.005457  -0.048411   0.002270    0.066829  \n",
      "808 -0.012019  -0.061645   0.002991    0.498534  \n",
      "807  0.054613   1.413585  -0.006349    2.142074  \n",
      "806  0.043515   0.570968   0.040890    1.647747  \n",
      "805  0.030576  -0.110282   0.040937    0.098121  \n",
      "804  0.031451  -0.007801   0.054014    0.896944   507\n",
      "0.0324637948104 507\n"
     ]
    }
   ],
   "source": [
    "print(LSTM_training_inputs[0],len(LSTM_training_inputs))\n",
    "print(LSTM_training_outputs_bt[0],len(LSTM_training_outputs_bt))"
   ]
  },
  {
   "cell_type": "code",
   "execution_count": 72,
   "metadata": {
    "collapsed": true
   },
   "outputs": [],
   "source": [
    "#Create normalized windows: training\n",
    "\n",
    "LSTM_test_inputs=[]\n",
    "LSTM_test_outputs=[]\n",
    "for i in range(len(test_set)-window_len):\n",
    "    temp_window=test_set[i:(i+window_len)]\n",
    "    temp_set_in = pd.concat([temp_window[cols_test_ex_norm],(temp_window[norm_cols]/temp_window[norm_cols].iloc[0] -1)],axis=1)\n",
    "    LSTM_test_inputs.append(temp_set_in.fillna(0.0))"
   ]
  },
  {
   "cell_type": "code",
   "execution_count": 79,
   "metadata": {
    "collapsed": true
   },
   "outputs": [],
   "source": [
    "LSTM_test_outputs_bt = (test_set[output_cols[0]][window_len:].values/test_set[output_cols[0]][:-window_len].values)-1\n",
    "LSTM_test_outputs_eth = (test_set[output_cols[1]][window_len:].values/test_set[output_cols[1]][:-window_len].values)-1"
   ]
  },
  {
   "cell_type": "code",
   "execution_count": 81,
   "metadata": {
    "collapsed": false
   },
   "outputs": [
    {
     "name": "stdout",
     "output_type": "stream",
     "text": [
      "     bt_close_off_high  bt_volatility  eth_close_off_high  eth_volatility  \\\n",
      "296          -0.493815       0.069946            0.286109        0.094157   \n",
      "295          -1.000000       0.047932            0.145473        0.044222   \n",
      "294          -0.159278       0.063496           -0.514504        0.029312   \n",
      "293           0.111061       0.052339           -0.615588        0.117928   \n",
      "292          -1.000000       0.070287           -0.685358        0.026176   \n",
      "291          -0.115346       0.114860           -0.705854        0.083146   \n",
      "290           0.625637       0.058835            0.241769        0.040226   \n",
      "289          -0.865882       0.053060           -0.859903        0.032094   \n",
      "288           0.468564       0.037789           -0.902903        0.080267   \n",
      "287          -0.967912       0.072288           -0.631062        0.242013   \n",
      "\n",
      "     bt_Close  bt_Volume  eth_Close  eth_Volume  \n",
      "296  0.000000   0.000000   0.000000    0.000000  \n",
      "295  0.033503  -0.203335   0.006929   -0.422416  \n",
      "294  0.044633  -0.083615   0.009629   -0.473633  \n",
      "293  0.043162  -0.180295   0.103897   -0.072705  \n",
      "292  0.115840  -0.171711   0.117981   -0.464083  \n",
      "291  0.189096   0.263994   0.190020   -0.087795  \n",
      "290  0.134674  -0.081945   0.161222   -0.432113  \n",
      "289  0.165183  -0.225027   0.177421   -0.525793  \n",
      "288  0.172737  -0.184027   0.267729   -0.313606  \n",
      "287  0.224193   0.221216   0.519393    0.982510   287\n",
      "0.228512218217 287\n"
     ]
    }
   ],
   "source": [
    "print(LSTM_test_inputs[0],len(LSTM_test_inputs))\n",
    "print(LSTM_test_outputs_bt[0],len(LSTM_test_outputs_bt))"
   ]
  },
  {
   "cell_type": "code",
   "execution_count": 83,
   "metadata": {
    "collapsed": false
   },
   "outputs": [
    {
     "name": "stdout",
     "output_type": "stream",
     "text": [
      "(507, 10, 8)\n",
      "(507, 2)\n"
     ]
    }
   ],
   "source": [
    "#convert to numpy arrays\n",
    "LSTM_training_inputs_np = np.array([np.array(tr_inp) for tr_inp in LSTM_training_inputs])\n",
    "LSTM_training_outputs_bt_np = LSTM_training_outputs_bt\n",
    "LSTM_training_outputs_eth_np = LSTM_training_outputs_eth\n",
    "print(LSTM_training_inputs_np.shape) # days,window size, columns\n",
    "print(LSTM_training_outputs_np.shape)"
   ]
  },
  {
   "cell_type": "code",
   "execution_count": 84,
   "metadata": {
    "collapsed": false
   },
   "outputs": [
    {
     "name": "stdout",
     "output_type": "stream",
     "text": [
      "(287, 10, 8)\n",
      "(287, 2)\n"
     ]
    }
   ],
   "source": [
    "#convert to numpy arrays\n",
    "LSTM_test_inputs_np = np.array([np.array(te_inp) for te_inp in LSTM_test_inputs])\n",
    "LSTM_test_outputs_bt_np = LSTM_test_outputs_bt\n",
    "LSTM_test_outputs_eth_np = LSTM_test_outputs_eth\n",
    "print(LSTM_test_inputs_np.shape) # days,window size, columns\n",
    "print(LSTM_test_outputs_np.shape)"
   ]
  },
  {
   "cell_type": "markdown",
   "metadata": {
    "collapsed": true
   },
   "source": [
    "# LSTM"
   ]
  },
  {
   "cell_type": "code",
   "execution_count": 22,
   "metadata": {
    "collapsed": false
   },
   "outputs": [
    {
     "name": "stderr",
     "output_type": "stream",
     "text": [
      "Using TensorFlow backend.\n"
     ]
    }
   ],
   "source": [
    "\n",
    "# import the relevant Keras modules\n",
    "from keras.models import Sequential\n",
    "from keras.layers import Activation, Dense\n",
    "from keras.layers import LSTM\n",
    "from keras.layers import Dropout\n",
    "\n",
    "def build_model(inputs, output_size, neurons, activ_func=\"linear\",\n",
    "                dropout=0.25, loss=\"mae\", optimizer=\"adam\"):\n",
    "    model = Sequential()\n",
    "    model.add(LSTM(neurons, input_shape=(inputs.shape[1], inputs.shape[2])))\n",
    "    model.add(Dropout(dropout))\n",
    "    model.add(Dense(units=output_size))\n",
    "    model.add(Activation(activ_func))\n",
    "\n",
    "    model.compile(loss=loss, optimizer=optimizer)\n",
    "    return model"
   ]
  },
  {
   "cell_type": "markdown",
   "metadata": {},
   "source": [
    "###  ETH Train"
   ]
  },
  {
   "cell_type": "code",
   "execution_count": 86,
   "metadata": {
    "collapsed": false,
    "scrolled": true
   },
   "outputs": [
    {
     "name": "stdout",
     "output_type": "stream",
     "text": [
      "Epoch 1/50\n",
      "3s - loss: 0.1550\n",
      "Epoch 2/50\n",
      "2s - loss: 0.1086\n",
      "Epoch 3/50\n",
      "2s - loss: 0.0982\n",
      "Epoch 4/50\n",
      "2s - loss: 0.0894\n",
      "Epoch 5/50\n",
      "2s - loss: 0.0889\n",
      "Epoch 6/50\n",
      "2s - loss: 0.0833\n",
      "Epoch 7/50\n",
      "2s - loss: 0.0821\n",
      "Epoch 8/50\n",
      "2s - loss: 0.0809\n",
      "Epoch 9/50\n",
      "2s - loss: 0.0760\n",
      "Epoch 10/50\n",
      "2s - loss: 0.0786\n",
      "Epoch 11/50\n",
      "2s - loss: 0.0727\n",
      "Epoch 12/50\n",
      "2s - loss: 0.0787\n",
      "Epoch 13/50\n",
      "2s - loss: 0.0725\n",
      "Epoch 14/50\n",
      "2s - loss: 0.0722\n",
      "Epoch 15/50\n",
      "2s - loss: 0.0715\n",
      "Epoch 16/50\n",
      "2s - loss: 0.0742\n",
      "Epoch 17/50\n",
      "2s - loss: 0.0717\n",
      "Epoch 18/50\n",
      "2s - loss: 0.0728\n",
      "Epoch 19/50\n",
      "2s - loss: 0.0678\n",
      "Epoch 20/50\n",
      "2s - loss: 0.0685\n",
      "Epoch 21/50\n",
      "2s - loss: 0.0682\n",
      "Epoch 22/50\n",
      "2s - loss: 0.0666\n",
      "Epoch 23/50\n",
      "2s - loss: 0.0680\n",
      "Epoch 24/50\n",
      "2s - loss: 0.0652\n",
      "Epoch 25/50\n",
      "2s - loss: 0.0698\n",
      "Epoch 26/50\n",
      "2s - loss: 0.0682\n",
      "Epoch 27/50\n",
      "2s - loss: 0.0717\n",
      "Epoch 28/50\n",
      "2s - loss: 0.0648\n",
      "Epoch 29/50\n",
      "2s - loss: 0.0674\n",
      "Epoch 30/50\n",
      "2s - loss: 0.0691\n",
      "Epoch 31/50\n",
      "2s - loss: 0.0687\n",
      "Epoch 32/50\n",
      "2s - loss: 0.0615\n",
      "Epoch 33/50\n",
      "2s - loss: 0.0680\n",
      "Epoch 34/50\n",
      "2s - loss: 0.0660\n",
      "Epoch 35/50\n",
      "2s - loss: 0.0676\n",
      "Epoch 36/50\n",
      "2s - loss: 0.0631\n",
      "Epoch 37/50\n",
      "2s - loss: 0.0687\n",
      "Epoch 38/50\n",
      "2s - loss: 0.0689\n",
      "Epoch 39/50\n",
      "2s - loss: 0.0668\n",
      "Epoch 40/50\n",
      "2s - loss: 0.0661\n",
      "Epoch 41/50\n",
      "2s - loss: 0.0647\n",
      "Epoch 42/50\n",
      "2s - loss: 0.0650\n",
      "Epoch 43/50\n",
      "2s - loss: 0.0661\n",
      "Epoch 44/50\n",
      "2s - loss: 0.0617\n",
      "Epoch 45/50\n",
      "2s - loss: 0.0648\n",
      "Epoch 46/50\n",
      "2s - loss: 0.0634\n",
      "Epoch 47/50\n",
      "2s - loss: 0.0633\n",
      "Epoch 48/50\n",
      "2s - loss: 0.0631\n",
      "Epoch 49/50\n",
      "2s - loss: 0.0624\n",
      "Epoch 50/50\n",
      "2s - loss: 0.0620\n"
     ]
    }
   ],
   "source": [
    "# random seed for reproducibility\n",
    "np.random.seed(42)\n",
    "# initialise model architecture\n",
    "eth_model = build_model(LSTM_training_inputs_np, output_size=1, neurons = 20)\n",
    "# train model on data\n",
    "# note: eth_history contains information on the training error per epoch\n",
    "eth_history = eth_model.fit(LSTM_training_inputs_np, LSTM_training_outputs_eth_np, \n",
    "                            epochs=50, batch_size=1, verbose=2, shuffle=True)\n"
   ]
  },
  {
   "cell_type": "code",
   "execution_count": 87,
   "metadata": {
    "collapsed": false
   },
   "outputs": [
    {
     "data": {
      "image/png": "[encoded data removed]",
      "text/plain": [
       "<matplotlib.figure.Figure at 0x7f137f671cf8>"
      ]
     },
     "metadata": {},
     "output_type": "display_data"
    }
   ],
   "source": [
    "fig, ax1 = plt.subplots(1,1)\n",
    "ax1.plot(eth_history.epoch,eth_history.history['loss'])\n",
    "ax1.set_title(\"MAE Training Loss (ETH)\")\n",
    "ax1.set_xlabel('# Epochs')\n",
    "ax1.set_ylabel('MAE')\n",
    "\n",
    "plt.show()"
   ]
  },
  {
   "cell_type": "markdown",
   "metadata": {},
   "source": [
    "###  ETH Predict"
   ]
  },
  {
   "cell_type": "markdown",
   "metadata": {},
   "source": [
    "#### On Train Data"
   ]
  },
  {
   "cell_type": "code",
   "execution_count": 91,
   "metadata": {
    "collapsed": false
   },
   "outputs": [],
   "source": [
    "eth_train_predict = np.transpose(eth_model.predict(LSTM_training_inputs_np))\n"
   ]
  },
  {
   "cell_type": "code",
   "execution_count": null,
   "metadata": {
    "collapsed": true
   },
   "outputs": [],
   "source": []
  }
 ],
 "metadata": {
  "kernelspec": {
   "display_name": "Python dla",
   "language": "python",
   "name": "dla"
  },
  "language_info": {
   "codemirror_mode": {
    "name": "ipython",
    "version": 3
   },
   "file_extension": ".py",
   "mimetype": "text/x-python",
   "name": "python",
   "nbconvert_exporter": "python",
   "pygments_lexer": "ipython3",
   "version": "3.6.2"
  }
 },
 "nbformat": 4,
 "nbformat_minor": 2
}
