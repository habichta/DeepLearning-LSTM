{
 "cells": [
  {
   "cell_type": "markdown",
   "metadata": {},
   "source": [
    "### TODO\n",
    "- Differencing Time Series, Reduce variance, remove seasonality?\n",
    "- Compare with ARIMA, MLP, ConvNet, Facebook Prophet\n",
    "- Automatic Hyperparameter optimization (Bayesian?)\n",
    "- Find better ways to split training/test set"
   ]
  },
  {
   "cell_type": "code",
   "execution_count": 1,
   "metadata": {
    "collapsed": true
   },
   "outputs": [],
   "source": [
    "import pandas as pd\n",
    "import time\n",
    "import seaborn as sns\n",
    "import matplotlib.pyplot as plt\n",
    "import datetime\n",
    "import numpy as np\n",
    "import pickle"
   ]
  },
  {
   "cell_type": "code",
   "execution_count": 2,
   "metadata": {
    "collapsed": false
   },
   "outputs": [
    {
     "data": {
      "text/html": [
       "<div>\n",
       "<style>\n",
       "    .dataframe thead tr:only-child th {\n",
       "        text-align: right;\n",
       "    }\n",
       "\n",
       "    .dataframe thead th {\n",
       "        text-align: left;\n",
       "    }\n",
       "\n",
       "    .dataframe tbody tr th {\n",
       "        vertical-align: top;\n",
       "    }\n",
       "</style>\n",
       "<table border=\"1\" class=\"dataframe\">\n",
       "  <thead>\n",
       "    <tr style=\"text-align: right;\">\n",
       "      <th></th>\n",
       "      <th>Date</th>\n",
       "      <th>Open</th>\n",
       "      <th>High</th>\n",
       "      <th>Low</th>\n",
       "      <th>Close</th>\n",
       "      <th>Volume</th>\n",
       "      <th>Market Cap</th>\n",
       "    </tr>\n",
       "  </thead>\n",
       "  <tbody>\n",
       "    <tr>\n",
       "      <th>0</th>\n",
       "      <td>2018-03-25</td>\n",
       "      <td>8612.81</td>\n",
       "      <td>8682.01</td>\n",
       "      <td>8449.10</td>\n",
       "      <td>8495.78</td>\n",
       "      <td>4569880000</td>\n",
       "      <td>145882000000</td>\n",
       "    </tr>\n",
       "    <tr>\n",
       "      <th>1</th>\n",
       "      <td>2018-03-24</td>\n",
       "      <td>8901.95</td>\n",
       "      <td>8996.18</td>\n",
       "      <td>8665.70</td>\n",
       "      <td>8668.12</td>\n",
       "      <td>5664600000</td>\n",
       "      <td>150762000000</td>\n",
       "    </tr>\n",
       "    <tr>\n",
       "      <th>2</th>\n",
       "      <td>2018-03-23</td>\n",
       "      <td>8736.25</td>\n",
       "      <td>8879.62</td>\n",
       "      <td>8360.62</td>\n",
       "      <td>8879.62</td>\n",
       "      <td>5954120000</td>\n",
       "      <td>147941000000</td>\n",
       "    </tr>\n",
       "    <tr>\n",
       "      <th>3</th>\n",
       "      <td>2018-03-22</td>\n",
       "      <td>8939.44</td>\n",
       "      <td>9100.71</td>\n",
       "      <td>8564.90</td>\n",
       "      <td>8728.47</td>\n",
       "      <td>5530390000</td>\n",
       "      <td>151366000000</td>\n",
       "    </tr>\n",
       "    <tr>\n",
       "      <th>4</th>\n",
       "      <td>2018-03-21</td>\n",
       "      <td>8937.48</td>\n",
       "      <td>9177.37</td>\n",
       "      <td>8846.33</td>\n",
       "      <td>8929.28</td>\n",
       "      <td>6043130000</td>\n",
       "      <td>151316000000</td>\n",
       "    </tr>\n",
       "  </tbody>\n",
       "</table>\n",
       "</div>"
      ],
      "text/plain": [
       "        Date     Open     High      Low    Close      Volume    Market Cap\n",
       "0 2018-03-25  8612.81  8682.01  8449.10  8495.78  4569880000  145882000000\n",
       "1 2018-03-24  8901.95  8996.18  8665.70  8668.12  5664600000  150762000000\n",
       "2 2018-03-23  8736.25  8879.62  8360.62  8879.62  5954120000  147941000000\n",
       "3 2018-03-22  8939.44  9100.71  8564.90  8728.47  5530390000  151366000000\n",
       "4 2018-03-21  8937.48  9177.37  8846.33  8929.28  6043130000  151316000000"
      ]
     },
     "execution_count": 2,
     "metadata": {},
     "output_type": "execute_result"
    }
   ],
   "source": [
    "# get market info for bitcoin from the start of 2016 to the current day\n",
    "bitcoin_market_info = pd.read_html(\"https://coinmarketcap.com/currencies/bitcoin/historical-data/?start=20130428&end=\"+time.strftime(\"%Y%m%d\"),flavor='html5lib')[0]\n",
    "# convert the date string to the correct date format\n",
    "bitcoin_market_info = bitcoin_market_info.assign(Date=pd.to_datetime(bitcoin_market_info['Date']))\n",
    "# when Volume is equal to '-' convert it to 0\n",
    "bitcoin_market_info.loc[bitcoin_market_info['Volume']==\"-\",'Volume']=0\n",
    "# convert to int\n",
    "bitcoin_market_info['Volume'] = bitcoin_market_info['Volume'].astype('int64')\n",
    "# look at the first few rows\n",
    "bitcoin_market_info.head()"
   ]
  },
  {
   "cell_type": "code",
   "execution_count": 3,
   "metadata": {
    "collapsed": false
   },
   "outputs": [
    {
     "data": {
      "text/html": [
       "<div>\n",
       "<style>\n",
       "    .dataframe thead tr:only-child th {\n",
       "        text-align: right;\n",
       "    }\n",
       "\n",
       "    .dataframe thead th {\n",
       "        text-align: left;\n",
       "    }\n",
       "\n",
       "    .dataframe tbody tr th {\n",
       "        vertical-align: top;\n",
       "    }\n",
       "</style>\n",
       "<table border=\"1\" class=\"dataframe\">\n",
       "  <thead>\n",
       "    <tr style=\"text-align: right;\">\n",
       "      <th></th>\n",
       "      <th>Date</th>\n",
       "      <th>Open</th>\n",
       "      <th>High</th>\n",
       "      <th>Low</th>\n",
       "      <th>Close</th>\n",
       "      <th>Volume</th>\n",
       "      <th>Market Cap</th>\n",
       "    </tr>\n",
       "  </thead>\n",
       "  <tbody>\n",
       "    <tr>\n",
       "      <th>0</th>\n",
       "      <td>2018-03-25</td>\n",
       "      <td>522.70</td>\n",
       "      <td>535.82</td>\n",
       "      <td>515.66</td>\n",
       "      <td>524.29</td>\n",
       "      <td>1151170000</td>\n",
       "      <td>51431600000</td>\n",
       "    </tr>\n",
       "    <tr>\n",
       "      <th>1</th>\n",
       "      <td>2018-03-24</td>\n",
       "      <td>542.57</td>\n",
       "      <td>545.38</td>\n",
       "      <td>526.08</td>\n",
       "      <td>526.44</td>\n",
       "      <td>1300010000</td>\n",
       "      <td>53375400000</td>\n",
       "    </tr>\n",
       "    <tr>\n",
       "      <th>2</th>\n",
       "      <td>2018-03-23</td>\n",
       "      <td>539.86</td>\n",
       "      <td>540.49</td>\n",
       "      <td>512.13</td>\n",
       "      <td>539.62</td>\n",
       "      <td>1596350000</td>\n",
       "      <td>53098100000</td>\n",
       "    </tr>\n",
       "    <tr>\n",
       "      <th>3</th>\n",
       "      <td>2018-03-22</td>\n",
       "      <td>562.10</td>\n",
       "      <td>577.57</td>\n",
       "      <td>523.09</td>\n",
       "      <td>539.70</td>\n",
       "      <td>1523460000</td>\n",
       "      <td>55273800000</td>\n",
       "    </tr>\n",
       "    <tr>\n",
       "      <th>4</th>\n",
       "      <td>2018-03-21</td>\n",
       "      <td>559.10</td>\n",
       "      <td>589.61</td>\n",
       "      <td>550.57</td>\n",
       "      <td>561.73</td>\n",
       "      <td>1781270000</td>\n",
       "      <td>54967300000</td>\n",
       "    </tr>\n",
       "  </tbody>\n",
       "</table>\n",
       "</div>"
      ],
      "text/plain": [
       "        Date    Open    High     Low   Close      Volume   Market Cap\n",
       "0 2018-03-25  522.70  535.82  515.66  524.29  1151170000  51431600000\n",
       "1 2018-03-24  542.57  545.38  526.08  526.44  1300010000  53375400000\n",
       "2 2018-03-23  539.86  540.49  512.13  539.62  1596350000  53098100000\n",
       "3 2018-03-22  562.10  577.57  523.09  539.70  1523460000  55273800000\n",
       "4 2018-03-21  559.10  589.61  550.57  561.73  1781270000  54967300000"
      ]
     },
     "execution_count": 3,
     "metadata": {},
     "output_type": "execute_result"
    }
   ],
   "source": [
    "# get market info for ethereum from the start of 2016 to the current day\n",
    "eth_market_info = pd.read_html(\"https://coinmarketcap.com/currencies/ethereum/historical-data/?start=20130428&end=\"+time.strftime(\"%Y%m%d\"),flavor='html5lib')[0]\n",
    "# convert the date string to the correct date format\n",
    "eth_market_info = eth_market_info.assign(Date=pd.to_datetime(eth_market_info['Date']))\n",
    "# look at the first few rows\n",
    "eth_market_info.head()"
   ]
  },
  {
   "cell_type": "code",
   "execution_count": 4,
   "metadata": {
    "collapsed": true
   },
   "outputs": [],
   "source": [
    "bitcoin_market_info.columns =[bitcoin_market_info.columns[0]]+['bt_'+i for i in bitcoin_market_info.columns[1:]]\n",
    "eth_market_info.columns =[eth_market_info.columns[0]]+['eth_'+i for i in eth_market_info.columns[1:]]"
   ]
  },
  {
   "cell_type": "code",
   "execution_count": 5,
   "metadata": {
    "collapsed": false
   },
   "outputs": [
    {
     "data": {
      "text/html": [
       "<div>\n",
       "<style>\n",
       "    .dataframe thead tr:only-child th {\n",
       "        text-align: right;\n",
       "    }\n",
       "\n",
       "    .dataframe thead th {\n",
       "        text-align: left;\n",
       "    }\n",
       "\n",
       "    .dataframe tbody tr th {\n",
       "        vertical-align: top;\n",
       "    }\n",
       "</style>\n",
       "<table border=\"1\" class=\"dataframe\">\n",
       "  <thead>\n",
       "    <tr style=\"text-align: right;\">\n",
       "      <th></th>\n",
       "      <th>Date</th>\n",
       "      <th>bt_Open</th>\n",
       "      <th>bt_High</th>\n",
       "      <th>bt_Low</th>\n",
       "      <th>bt_Close</th>\n",
       "      <th>bt_Volume</th>\n",
       "      <th>bt_Market Cap</th>\n",
       "      <th>eth_Open</th>\n",
       "      <th>eth_High</th>\n",
       "      <th>eth_Low</th>\n",
       "      <th>eth_Close</th>\n",
       "      <th>eth_Volume</th>\n",
       "      <th>eth_Market Cap</th>\n",
       "      <th>bt_day_diff</th>\n",
       "      <th>eth_day_diff</th>\n",
       "    </tr>\n",
       "  </thead>\n",
       "  <tbody>\n",
       "    <tr>\n",
       "      <th>0</th>\n",
       "      <td>2018-03-25</td>\n",
       "      <td>8612.81</td>\n",
       "      <td>8682.01</td>\n",
       "      <td>8449.10</td>\n",
       "      <td>8495.78</td>\n",
       "      <td>4569880000</td>\n",
       "      <td>145882000000</td>\n",
       "      <td>522.70</td>\n",
       "      <td>535.82</td>\n",
       "      <td>515.66</td>\n",
       "      <td>524.29</td>\n",
       "      <td>1151170000</td>\n",
       "      <td>51431600000</td>\n",
       "      <td>-0.013588</td>\n",
       "      <td>0.003042</td>\n",
       "    </tr>\n",
       "    <tr>\n",
       "      <th>1</th>\n",
       "      <td>2018-03-24</td>\n",
       "      <td>8901.95</td>\n",
       "      <td>8996.18</td>\n",
       "      <td>8665.70</td>\n",
       "      <td>8668.12</td>\n",
       "      <td>5664600000</td>\n",
       "      <td>150762000000</td>\n",
       "      <td>542.57</td>\n",
       "      <td>545.38</td>\n",
       "      <td>526.08</td>\n",
       "      <td>526.44</td>\n",
       "      <td>1300010000</td>\n",
       "      <td>53375400000</td>\n",
       "      <td>-0.026267</td>\n",
       "      <td>-0.029729</td>\n",
       "    </tr>\n",
       "    <tr>\n",
       "      <th>2</th>\n",
       "      <td>2018-03-23</td>\n",
       "      <td>8736.25</td>\n",
       "      <td>8879.62</td>\n",
       "      <td>8360.62</td>\n",
       "      <td>8879.62</td>\n",
       "      <td>5954120000</td>\n",
       "      <td>147941000000</td>\n",
       "      <td>539.86</td>\n",
       "      <td>540.49</td>\n",
       "      <td>512.13</td>\n",
       "      <td>539.62</td>\n",
       "      <td>1596350000</td>\n",
       "      <td>53098100000</td>\n",
       "      <td>0.016411</td>\n",
       "      <td>-0.000445</td>\n",
       "    </tr>\n",
       "    <tr>\n",
       "      <th>3</th>\n",
       "      <td>2018-03-22</td>\n",
       "      <td>8939.44</td>\n",
       "      <td>9100.71</td>\n",
       "      <td>8564.90</td>\n",
       "      <td>8728.47</td>\n",
       "      <td>5530390000</td>\n",
       "      <td>151366000000</td>\n",
       "      <td>562.10</td>\n",
       "      <td>577.57</td>\n",
       "      <td>523.09</td>\n",
       "      <td>539.70</td>\n",
       "      <td>1523460000</td>\n",
       "      <td>55273800000</td>\n",
       "      <td>-0.023600</td>\n",
       "      <td>-0.039851</td>\n",
       "    </tr>\n",
       "    <tr>\n",
       "      <th>4</th>\n",
       "      <td>2018-03-21</td>\n",
       "      <td>8937.48</td>\n",
       "      <td>9177.37</td>\n",
       "      <td>8846.33</td>\n",
       "      <td>8929.28</td>\n",
       "      <td>6043130000</td>\n",
       "      <td>151316000000</td>\n",
       "      <td>559.10</td>\n",
       "      <td>589.61</td>\n",
       "      <td>550.57</td>\n",
       "      <td>561.73</td>\n",
       "      <td>1781270000</td>\n",
       "      <td>54967300000</td>\n",
       "      <td>-0.000917</td>\n",
       "      <td>0.004704</td>\n",
       "    </tr>\n",
       "  </tbody>\n",
       "</table>\n",
       "</div>"
      ],
      "text/plain": [
       "        Date  bt_Open  bt_High   bt_Low  bt_Close   bt_Volume  bt_Market Cap  \\\n",
       "0 2018-03-25  8612.81  8682.01  8449.10   8495.78  4569880000   145882000000   \n",
       "1 2018-03-24  8901.95  8996.18  8665.70   8668.12  5664600000   150762000000   \n",
       "2 2018-03-23  8736.25  8879.62  8360.62   8879.62  5954120000   147941000000   \n",
       "3 2018-03-22  8939.44  9100.71  8564.90   8728.47  5530390000   151366000000   \n",
       "4 2018-03-21  8937.48  9177.37  8846.33   8929.28  6043130000   151316000000   \n",
       "\n",
       "   eth_Open  eth_High  eth_Low  eth_Close  eth_Volume eth_Market Cap  \\\n",
       "0    522.70    535.82   515.66     524.29  1151170000    51431600000   \n",
       "1    542.57    545.38   526.08     526.44  1300010000    53375400000   \n",
       "2    539.86    540.49   512.13     539.62  1596350000    53098100000   \n",
       "3    562.10    577.57   523.09     539.70  1523460000    55273800000   \n",
       "4    559.10    589.61   550.57     561.73  1781270000    54967300000   \n",
       "\n",
       "   bt_day_diff  eth_day_diff  \n",
       "0    -0.013588      0.003042  \n",
       "1    -0.026267     -0.029729  \n",
       "2     0.016411     -0.000445  \n",
       "3    -0.023600     -0.039851  \n",
       "4    -0.000917      0.004704  "
      ]
     },
     "execution_count": 5,
     "metadata": {},
     "output_type": "execute_result"
    }
   ],
   "source": [
    "\n",
    "market_info = pd.merge(bitcoin_market_info,eth_market_info, on=['Date'])\n",
    "market_info = market_info[market_info['Date']>='2016-01-01']\n",
    "for coins in ['bt_', 'eth_']: \n",
    "    kwargs = { coins+'day_diff': lambda x: (x[coins+'Close']-x[coins+'Open'])/x[coins+'Open']}\n",
    "    market_info = market_info.assign(**kwargs)\n",
    "market_info.head()"
   ]
  },
  {
   "cell_type": "code",
   "execution_count": 6,
   "metadata": {
    "collapsed": true
   },
   "outputs": [],
   "source": [
    "for coins in ['bt_', 'eth_']: \n",
    "    kwargs = { coins+'close_off_high': lambda x: 2*(x[coins+'High']- x[coins+'Close'])/(x[coins+'High']-x[coins+'Low'])-1,\n",
    "            coins+'volatility': lambda x: (x[coins+'High']- x[coins+'Low'])/(x[coins+'Open'])}\n",
    "    market_info = market_info.assign(**kwargs)"
   ]
  },
  {
   "cell_type": "code",
   "execution_count": 7,
   "metadata": {
    "collapsed": false
   },
   "outputs": [
    {
     "data": {
      "text/html": [
       "<div>\n",
       "<style>\n",
       "    .dataframe thead tr:only-child th {\n",
       "        text-align: right;\n",
       "    }\n",
       "\n",
       "    .dataframe thead th {\n",
       "        text-align: left;\n",
       "    }\n",
       "\n",
       "    .dataframe tbody tr th {\n",
       "        vertical-align: top;\n",
       "    }\n",
       "</style>\n",
       "<table border=\"1\" class=\"dataframe\">\n",
       "  <thead>\n",
       "    <tr style=\"text-align: right;\">\n",
       "      <th></th>\n",
       "      <th>Date</th>\n",
       "      <th>bt_Close</th>\n",
       "      <th>bt_Volume</th>\n",
       "      <th>bt_close_off_high</th>\n",
       "      <th>bt_volatility</th>\n",
       "      <th>eth_Close</th>\n",
       "      <th>eth_Volume</th>\n",
       "      <th>eth_close_off_high</th>\n",
       "      <th>eth_volatility</th>\n",
       "    </tr>\n",
       "  </thead>\n",
       "  <tbody>\n",
       "    <tr>\n",
       "      <th>814</th>\n",
       "      <td>2016-01-01</td>\n",
       "      <td>434.33</td>\n",
       "      <td>36278900</td>\n",
       "      <td>-0.560641</td>\n",
       "      <td>0.020292</td>\n",
       "      <td>0.948024</td>\n",
       "      <td>206062</td>\n",
       "      <td>-0.418477</td>\n",
       "      <td>0.025040</td>\n",
       "    </tr>\n",
       "    <tr>\n",
       "      <th>813</th>\n",
       "      <td>2016-01-02</td>\n",
       "      <td>433.44</td>\n",
       "      <td>30096600</td>\n",
       "      <td>0.250597</td>\n",
       "      <td>0.009641</td>\n",
       "      <td>0.937124</td>\n",
       "      <td>255504</td>\n",
       "      <td>0.965898</td>\n",
       "      <td>0.034913</td>\n",
       "    </tr>\n",
       "    <tr>\n",
       "      <th>812</th>\n",
       "      <td>2016-01-03</td>\n",
       "      <td>430.01</td>\n",
       "      <td>39633800</td>\n",
       "      <td>-0.173865</td>\n",
       "      <td>0.020827</td>\n",
       "      <td>0.971905</td>\n",
       "      <td>407632</td>\n",
       "      <td>-0.317885</td>\n",
       "      <td>0.060792</td>\n",
       "    </tr>\n",
       "    <tr>\n",
       "      <th>811</th>\n",
       "      <td>2016-01-04</td>\n",
       "      <td>433.09</td>\n",
       "      <td>38477500</td>\n",
       "      <td>-0.474265</td>\n",
       "      <td>0.012649</td>\n",
       "      <td>0.954480</td>\n",
       "      <td>346245</td>\n",
       "      <td>-0.057657</td>\n",
       "      <td>0.047943</td>\n",
       "    </tr>\n",
       "    <tr>\n",
       "      <th>810</th>\n",
       "      <td>2016-01-05</td>\n",
       "      <td>431.96</td>\n",
       "      <td>34522600</td>\n",
       "      <td>-0.013333</td>\n",
       "      <td>0.010391</td>\n",
       "      <td>0.950176</td>\n",
       "      <td>219833</td>\n",
       "      <td>0.697930</td>\n",
       "      <td>0.025236</td>\n",
       "    </tr>\n",
       "  </tbody>\n",
       "</table>\n",
       "</div>"
      ],
      "text/plain": [
       "          Date  bt_Close  bt_Volume  bt_close_off_high  bt_volatility  \\\n",
       "814 2016-01-01    434.33   36278900          -0.560641       0.020292   \n",
       "813 2016-01-02    433.44   30096600           0.250597       0.009641   \n",
       "812 2016-01-03    430.01   39633800          -0.173865       0.020827   \n",
       "811 2016-01-04    433.09   38477500          -0.474265       0.012649   \n",
       "810 2016-01-05    431.96   34522600          -0.013333       0.010391   \n",
       "\n",
       "     eth_Close  eth_Volume  eth_close_off_high  eth_volatility  \n",
       "814   0.948024      206062           -0.418477        0.025040  \n",
       "813   0.937124      255504            0.965898        0.034913  \n",
       "812   0.971905      407632           -0.317885        0.060792  \n",
       "811   0.954480      346245           -0.057657        0.047943  \n",
       "810   0.950176      219833            0.697930        0.025236  "
      ]
     },
     "execution_count": 7,
     "metadata": {},
     "output_type": "execute_result"
    }
   ],
   "source": [
    "model_data = market_info[['Date']+[coin+metric for coin in ['bt_', 'eth_'] \n",
    "                                   for metric in ['Close','Volume','close_off_high','volatility']]]\n",
    "# need to reverse the data frame so that subsequent rows represent later timepoints\n",
    "model_data = model_data.sort_values(by='Date')\n",
    "model_data.head()"
   ]
  },
  {
   "cell_type": "code",
   "execution_count": 8,
   "metadata": {
    "collapsed": true
   },
   "outputs": [],
   "source": [
    "#Training / Test Set Split"
   ]
  },
  {
   "cell_type": "code",
   "execution_count": 9,
   "metadata": {
    "collapsed": false
   },
   "outputs": [],
   "source": [
    "split_date = '2017-06-01'\n",
    "training_set, test_set = model_data[model_data[\"Date\"]<split_date], model_data[model_data['Date']>= split_date]\n",
    "training_set = training_set.drop('Date',1)\n",
    "test_set = test_set.drop('Date',1)"
   ]
  },
  {
   "cell_type": "code",
   "execution_count": 10,
   "metadata": {
    "collapsed": false
   },
   "outputs": [
    {
     "data": {
      "text/html": [
       "<div>\n",
       "<style>\n",
       "    .dataframe thead tr:only-child th {\n",
       "        text-align: right;\n",
       "    }\n",
       "\n",
       "    .dataframe thead th {\n",
       "        text-align: left;\n",
       "    }\n",
       "\n",
       "    .dataframe tbody tr th {\n",
       "        vertical-align: top;\n",
       "    }\n",
       "</style>\n",
       "<table border=\"1\" class=\"dataframe\">\n",
       "  <thead>\n",
       "    <tr style=\"text-align: right;\">\n",
       "      <th></th>\n",
       "      <th>bt_Close</th>\n",
       "      <th>bt_Volume</th>\n",
       "      <th>bt_close_off_high</th>\n",
       "      <th>bt_volatility</th>\n",
       "      <th>eth_Close</th>\n",
       "      <th>eth_Volume</th>\n",
       "      <th>eth_close_off_high</th>\n",
       "      <th>eth_volatility</th>\n",
       "    </tr>\n",
       "  </thead>\n",
       "  <tbody>\n",
       "    <tr>\n",
       "      <th>814</th>\n",
       "      <td>434.33</td>\n",
       "      <td>36278900</td>\n",
       "      <td>-0.560641</td>\n",
       "      <td>0.020292</td>\n",
       "      <td>0.948024</td>\n",
       "      <td>206062</td>\n",
       "      <td>-0.418477</td>\n",
       "      <td>0.025040</td>\n",
       "    </tr>\n",
       "    <tr>\n",
       "      <th>813</th>\n",
       "      <td>433.44</td>\n",
       "      <td>30096600</td>\n",
       "      <td>0.250597</td>\n",
       "      <td>0.009641</td>\n",
       "      <td>0.937124</td>\n",
       "      <td>255504</td>\n",
       "      <td>0.965898</td>\n",
       "      <td>0.034913</td>\n",
       "    </tr>\n",
       "    <tr>\n",
       "      <th>812</th>\n",
       "      <td>430.01</td>\n",
       "      <td>39633800</td>\n",
       "      <td>-0.173865</td>\n",
       "      <td>0.020827</td>\n",
       "      <td>0.971905</td>\n",
       "      <td>407632</td>\n",
       "      <td>-0.317885</td>\n",
       "      <td>0.060792</td>\n",
       "    </tr>\n",
       "    <tr>\n",
       "      <th>811</th>\n",
       "      <td>433.09</td>\n",
       "      <td>38477500</td>\n",
       "      <td>-0.474265</td>\n",
       "      <td>0.012649</td>\n",
       "      <td>0.954480</td>\n",
       "      <td>346245</td>\n",
       "      <td>-0.057657</td>\n",
       "      <td>0.047943</td>\n",
       "    </tr>\n",
       "    <tr>\n",
       "      <th>810</th>\n",
       "      <td>431.96</td>\n",
       "      <td>34522600</td>\n",
       "      <td>-0.013333</td>\n",
       "      <td>0.010391</td>\n",
       "      <td>0.950176</td>\n",
       "      <td>219833</td>\n",
       "      <td>0.697930</td>\n",
       "      <td>0.025236</td>\n",
       "    </tr>\n",
       "  </tbody>\n",
       "</table>\n",
       "</div>"
      ],
      "text/plain": [
       "     bt_Close  bt_Volume  bt_close_off_high  bt_volatility  eth_Close  \\\n",
       "814    434.33   36278900          -0.560641       0.020292   0.948024   \n",
       "813    433.44   30096600           0.250597       0.009641   0.937124   \n",
       "812    430.01   39633800          -0.173865       0.020827   0.971905   \n",
       "811    433.09   38477500          -0.474265       0.012649   0.954480   \n",
       "810    431.96   34522600          -0.013333       0.010391   0.950176   \n",
       "\n",
       "     eth_Volume  eth_close_off_high  eth_volatility  \n",
       "814      206062           -0.418477        0.025040  \n",
       "813      255504            0.965898        0.034913  \n",
       "812      407632           -0.317885        0.060792  \n",
       "811      346245           -0.057657        0.047943  \n",
       "810      219833            0.697930        0.025236  "
      ]
     },
     "execution_count": 10,
     "metadata": {},
     "output_type": "execute_result"
    }
   ],
   "source": [
    "training_set.head()"
   ]
  },
  {
   "cell_type": "code",
   "execution_count": 11,
   "metadata": {
    "collapsed": false
   },
   "outputs": [],
   "source": [
    "#Window settings for timeseries analysis\n",
    "window_len=10\n",
    "cols_train = training_set.columns\n",
    "cols_test = training_set.columns\n",
    "norm_cols = [coin+metric for coin in ['bt_','eth_'] for metric in ['Close','Volume']]\n",
    "output_cols = [coin+metric for coin in ['bt_','eth_'] for metric in ['Close']]\n",
    "\n",
    "cols_train_ex_norm  = list(filter(lambda x: x not in norm_cols,cols_train))\n",
    "cols_test_ex_norm  = list(filter(lambda x: x not in norm_cols,cols_test))"
   ]
  },
  {
   "cell_type": "code",
   "execution_count": 12,
   "metadata": {
    "collapsed": false
   },
   "outputs": [],
   "source": [
    "#Create normalized windows: training\n",
    "\n",
    "LSTM_training_inputs=[]\n",
    "LSTM_training_outputs=[]\n",
    "for i in range(len(training_set)-window_len):\n",
    "    temp_window=training_set[i:(i+window_len)]\n",
    "    temp_set_in = pd.concat([temp_window[cols_train_ex_norm],(temp_window[norm_cols]/temp_window[norm_cols].iloc[0] -1)],axis=1)\n",
    "    LSTM_training_inputs.append(temp_set_in.fillna(0.0))"
   ]
  },
  {
   "cell_type": "code",
   "execution_count": 13,
   "metadata": {
    "collapsed": false
   },
   "outputs": [],
   "source": [
    "LSTM_training_outputs_bt = (training_set[output_cols[0]][window_len:].values/training_set[output_cols[0]][:-window_len].values)-1\n",
    "LSTM_training_outputs_eth = (training_set[output_cols[1]][window_len:].values/training_set[output_cols[1]][:-window_len].values)-1"
   ]
  },
  {
   "cell_type": "markdown",
   "metadata": {},
   "source": [
    "Prediction: Change from beginning of window period to value of day after window period\n",
    "\n",
    "|awwwwwwww|p  input is |..|, predict change of price(p/a -1),"
   ]
  },
  {
   "cell_type": "code",
   "execution_count": 14,
   "metadata": {
    "collapsed": false
   },
   "outputs": [
    {
     "name": "stdout",
     "output_type": "stream",
     "text": [
      "     bt_close_off_high  bt_volatility  eth_close_off_high  eth_volatility  \\\n",
      "814          -0.560641       0.020292           -0.418477        0.025040   \n",
      "813           0.250597       0.009641            0.965898        0.034913   \n",
      "812          -0.173865       0.020827           -0.317885        0.060792   \n",
      "811          -0.474265       0.012649           -0.057657        0.047943   \n",
      "810          -0.013333       0.010391            0.697930        0.025236   \n",
      "809          -0.003623       0.012782           -0.214540        0.026263   \n",
      "808          -0.951499       0.069045            0.681644        0.040587   \n",
      "807           0.294196       0.032762           -0.806717        0.055274   \n",
      "806           0.814194       0.017094           -0.411897        0.019021   \n",
      "805          -0.919598       0.017758           -0.938235        0.025266   \n",
      "\n",
      "     bt_Close  bt_Volume  eth_Close  eth_Volume  \n",
      "814  0.000000   0.000000   0.000000    0.000000  \n",
      "813 -0.002049  -0.170410  -0.011498    0.239937  \n",
      "812 -0.009946   0.092475   0.025190    0.978201  \n",
      "811 -0.002855   0.060603   0.006810    0.680295  \n",
      "810 -0.005457  -0.048411   0.002270    0.066829  \n",
      "809 -0.012019  -0.061645   0.002991    0.498534  \n",
      "808  0.054613   1.413585  -0.006349    2.142074  \n",
      "807  0.043515   0.570968   0.040890    1.647747  \n",
      "806  0.030576  -0.110282   0.040937    0.098121  \n",
      "805  0.031451  -0.007801   0.054014    0.896944   507\n",
      "0.0324637948104 507\n"
     ]
    }
   ],
   "source": [
    "print(LSTM_training_inputs[0],len(LSTM_training_inputs))\n",
    "print(LSTM_training_outputs_bt[0],len(LSTM_training_outputs_bt))"
   ]
  },
  {
   "cell_type": "code",
   "execution_count": 15,
   "metadata": {
    "collapsed": true
   },
   "outputs": [],
   "source": [
    "#Create normalized windows: training\n",
    "\n",
    "LSTM_test_inputs=[]\n",
    "LSTM_test_outputs=[]\n",
    "for i in range(len(test_set)-window_len):\n",
    "    temp_window=test_set[i:(i+window_len)]\n",
    "    temp_set_in = pd.concat([temp_window[cols_test_ex_norm],(temp_window[norm_cols]/temp_window[norm_cols].iloc[0] -1)],axis=1)\n",
    "    LSTM_test_inputs.append(temp_set_in.fillna(0.0))"
   ]
  },
  {
   "cell_type": "code",
   "execution_count": 16,
   "metadata": {
    "collapsed": true
   },
   "outputs": [],
   "source": [
    "LSTM_test_outputs_bt = (test_set[output_cols[0]][window_len:].values/test_set[output_cols[0]][:-window_len].values)-1\n",
    "LSTM_test_outputs_eth = (test_set[output_cols[1]][window_len:].values/test_set[output_cols[1]][:-window_len].values)-1"
   ]
  },
  {
   "cell_type": "code",
   "execution_count": 17,
   "metadata": {
    "collapsed": false
   },
   "outputs": [
    {
     "name": "stdout",
     "output_type": "stream",
     "text": [
      "     bt_close_off_high  bt_volatility  eth_close_off_high  eth_volatility  \\\n",
      "297          -0.493815       0.069946            0.286109        0.094157   \n",
      "296          -1.000000       0.047932            0.145473        0.044222   \n",
      "295          -0.159278       0.063496           -0.514504        0.029312   \n",
      "294           0.111061       0.052339           -0.615588        0.117928   \n",
      "293          -1.000000       0.070287           -0.685358        0.026176   \n",
      "292          -0.115346       0.114860           -0.705854        0.083146   \n",
      "291           0.625637       0.058835            0.241769        0.040226   \n",
      "290          -0.865882       0.053060           -0.859903        0.032094   \n",
      "289           0.468564       0.037789           -0.902903        0.080267   \n",
      "288          -0.967912       0.072288           -0.631062        0.242013   \n",
      "\n",
      "     bt_Close  bt_Volume  eth_Close  eth_Volume  \n",
      "297  0.000000   0.000000   0.000000    0.000000  \n",
      "296  0.033503  -0.203335   0.006929   -0.422416  \n",
      "295  0.044633  -0.083615   0.009629   -0.473633  \n",
      "294  0.043162  -0.180295   0.103897   -0.072705  \n",
      "293  0.115840  -0.171711   0.117981   -0.464083  \n",
      "292  0.189096   0.263994   0.190020   -0.087795  \n",
      "291  0.134674  -0.081945   0.161222   -0.432113  \n",
      "290  0.165183  -0.225027   0.177421   -0.525793  \n",
      "289  0.172737  -0.184027   0.267729   -0.313606  \n",
      "288  0.224193   0.221216   0.519393    0.982510   288\n",
      "0.228512218217 288\n"
     ]
    }
   ],
   "source": [
    "print(LSTM_test_inputs[0],len(LSTM_test_inputs))\n",
    "print(LSTM_test_outputs_bt[0],len(LSTM_test_outputs_bt))"
   ]
  },
  {
   "cell_type": "code",
   "execution_count": 18,
   "metadata": {
    "collapsed": false
   },
   "outputs": [
    {
     "name": "stdout",
     "output_type": "stream",
     "text": [
      "(507, 10, 8)\n",
      "(507,)\n"
     ]
    }
   ],
   "source": [
    "#convert to numpy arrays\n",
    "LSTM_training_inputs_np = np.array([np.array(tr_inp) for tr_inp in LSTM_training_inputs])\n",
    "LSTM_training_outputs_bt_np = LSTM_training_outputs_bt\n",
    "LSTM_training_outputs_eth_np = LSTM_training_outputs_eth\n",
    "print(LSTM_training_inputs_np.shape) # days,window size, columns\n",
    "print(LSTM_training_outputs_bt_np.shape)"
   ]
  },
  {
   "cell_type": "code",
   "execution_count": 19,
   "metadata": {
    "collapsed": false
   },
   "outputs": [
    {
     "name": "stdout",
     "output_type": "stream",
     "text": [
      "(288, 10, 8)\n",
      "(288,)\n"
     ]
    }
   ],
   "source": [
    "#convert to numpy arrays\n",
    "LSTM_test_inputs_np = np.array([np.array(te_inp) for te_inp in LSTM_test_inputs])\n",
    "LSTM_test_outputs_bt_np = LSTM_test_outputs_bt\n",
    "LSTM_test_outputs_eth_np = LSTM_test_outputs_eth\n",
    "print(LSTM_test_inputs_np.shape) # days,window size, columns\n",
    "print(LSTM_test_outputs_bt_np.shape)"
   ]
  },
  {
   "cell_type": "markdown",
   "metadata": {
    "collapsed": true
   },
   "source": [
    "# LSTM"
   ]
  },
  {
   "cell_type": "code",
   "execution_count": 20,
   "metadata": {
    "collapsed": false
   },
   "outputs": [
    {
     "name": "stderr",
     "output_type": "stream",
     "text": [
      "Using TensorFlow backend.\n"
     ]
    }
   ],
   "source": [
    "\n",
    "# import the relevant Keras modules\n",
    "from keras.models import Sequential\n",
    "from keras.layers import Activation, Dense\n",
    "from keras.layers import LSTM\n",
    "from keras.layers import Dropout\n",
    "\n",
    "def build_model(inputs, output_size, neurons, activ_func=\"linear\",\n",
    "                dropout=0.25, loss=\"mae\", optimizer=\"adam\"):\n",
    "    model = Sequential()\n",
    "    model.add(LSTM(neurons, input_shape=(inputs.shape[1], inputs.shape[2])))\n",
    "    model.add(Dropout(dropout))\n",
    "    model.add(Dense(units=output_size))\n",
    "    model.add(Activation(activ_func))\n",
    "\n",
    "    model.compile(loss=loss, optimizer=optimizer)\n",
    "    return model"
   ]
  },
  {
   "cell_type": "markdown",
   "metadata": {},
   "source": [
    "###  ETH Train"
   ]
  },
  {
   "cell_type": "code",
   "execution_count": 22,
   "metadata": {
    "collapsed": false,
    "scrolled": true
   },
   "outputs": [
    {
     "name": "stdout",
     "output_type": "stream",
     "text": [
      "Epoch 1/50\n",
      "2s - loss: 0.1550\n",
      "Epoch 2/50\n",
      "2s - loss: 0.1086\n",
      "Epoch 3/50\n",
      "2s - loss: 0.0982\n",
      "Epoch 4/50\n",
      "2s - loss: 0.0894\n",
      "Epoch 5/50\n",
      "2s - loss: 0.0889\n",
      "Epoch 6/50\n",
      "2s - loss: 0.0832\n",
      "Epoch 7/50\n",
      "2s - loss: 0.0821\n",
      "Epoch 8/50\n",
      "2s - loss: 0.0810\n",
      "Epoch 9/50\n",
      "2s - loss: 0.0760\n",
      "Epoch 10/50\n",
      "2s - loss: 0.0782\n",
      "Epoch 11/50\n",
      "2s - loss: 0.0726\n",
      "Epoch 12/50\n",
      "2s - loss: 0.0790\n",
      "Epoch 13/50\n",
      "2s - loss: 0.0722\n",
      "Epoch 14/50\n",
      "2s - loss: 0.0733\n",
      "Epoch 15/50\n",
      "2s - loss: 0.0713\n",
      "Epoch 16/50\n",
      "2s - loss: 0.0746\n",
      "Epoch 17/50\n",
      "2s - loss: 0.0712\n",
      "Epoch 18/50\n",
      "2s - loss: 0.0718\n",
      "Epoch 19/50\n",
      "2s - loss: 0.0682\n",
      "Epoch 20/50\n",
      "2s - loss: 0.0689\n",
      "Epoch 21/50\n",
      "2s - loss: 0.0680\n",
      "Epoch 22/50\n",
      "2s - loss: 0.0673\n",
      "Epoch 23/50\n",
      "2s - loss: 0.0676\n",
      "Epoch 24/50\n",
      "2s - loss: 0.0656\n",
      "Epoch 25/50\n",
      "2s - loss: 0.0701\n",
      "Epoch 26/50\n",
      "2s - loss: 0.0686\n",
      "Epoch 27/50\n",
      "2s - loss: 0.0714\n",
      "Epoch 28/50\n",
      "2s - loss: 0.0644\n",
      "Epoch 29/50\n",
      "2s - loss: 0.0680\n",
      "Epoch 30/50\n",
      "2s - loss: 0.0690\n",
      "Epoch 31/50\n",
      "2s - loss: 0.0690\n",
      "Epoch 32/50\n",
      "2s - loss: 0.0615\n",
      "Epoch 33/50\n",
      "2s - loss: 0.0679\n",
      "Epoch 34/50\n",
      "2s - loss: 0.0658\n",
      "Epoch 35/50\n",
      "2s - loss: 0.0663\n",
      "Epoch 36/50\n",
      "2s - loss: 0.0648\n",
      "Epoch 37/50\n",
      "2s - loss: 0.0670\n",
      "Epoch 38/50\n",
      "2s - loss: 0.0690\n",
      "Epoch 39/50\n",
      "2s - loss: 0.0650\n",
      "Epoch 40/50\n",
      "2s - loss: 0.0653\n",
      "Epoch 41/50\n",
      "2s - loss: 0.0643\n",
      "Epoch 42/50\n",
      "2s - loss: 0.0658\n",
      "Epoch 43/50\n",
      "2s - loss: 0.0651\n",
      "Epoch 44/50\n",
      "2s - loss: 0.0628\n",
      "Epoch 45/50\n",
      "2s - loss: 0.0649\n",
      "Epoch 46/50\n",
      "2s - loss: 0.0629\n",
      "Epoch 47/50\n",
      "2s - loss: 0.0630\n",
      "Epoch 48/50\n",
      "2s - loss: 0.0639\n",
      "Epoch 49/50\n",
      "2s - loss: 0.0629\n",
      "Epoch 50/50\n",
      "2s - loss: 0.0634\n"
     ]
    }
   ],
   "source": [
    "# random seed for reproducibility\n",
    "np.random.seed(42)\n",
    "# initialise model architecture\n",
    "eth_model = build_model(LSTM_training_inputs_np, output_size=1, neurons = 20)\n",
    "# train model on data\n",
    "# note: eth_history contains information on the training error per epoch\n",
    "eth_history = eth_model.fit(LSTM_training_inputs_np, LSTM_training_outputs_eth_np, \n",
    "                            epochs=50, batch_size=1, verbose=2, shuffle=True)\n"
   ]
  },
  {
   "cell_type": "code",
   "execution_count": 23,
   "metadata": {
    "collapsed": false
   },
   "outputs": [
    {
     "data": {
      "image/png": "[encoded data removed]",
      "text/plain": [
       "<matplotlib.figure.Figure at 0x7f8a7492e358>"
      ]
     },
     "metadata": {},
     "output_type": "display_data"
    }
   ],
   "source": [
    "fig, ax1 = plt.subplots(1,1)\n",
    "ax1.plot(eth_history.epoch,eth_history.history['loss'])\n",
    "ax1.set_title(\"MAE Training Loss (ETH)\")\n",
    "ax1.set_xlabel('# Epochs')\n",
    "ax1.set_ylabel('MAE')\n",
    "\n",
    "plt.show()"
   ]
  },
  {
   "cell_type": "code",
   "execution_count": null,
   "metadata": {
    "collapsed": true
   },
   "outputs": [],
   "source": [
    "eth_train_predict = np.squeeze(eth_model.predict(LSTM_training_inputs_np))"
   ]
  },
  {
   "cell_type": "code",
   "execution_count": null,
   "metadata": {
    "collapsed": true
   },
   "outputs": [],
   "source": [
    "pickle.dump(eth_train_predict,file=open('eth_train_predict.pkl','wb'))"
   ]
  },
  {
   "cell_type": "markdown",
   "metadata": {},
   "source": [
    "###  ETH Predict"
   ]
  },
  {
   "cell_type": "markdown",
   "metadata": {},
   "source": [
    "#### On Train Data"
   ]
  },
  {
   "cell_type": "code",
   "execution_count": 21,
   "metadata": {
    "collapsed": false
   },
   "outputs": [],
   "source": [
    "eth_train_predict = pickle.load(open('eth_train_predict.pkl','rb'))"
   ]
  },
  {
   "cell_type": "code",
   "execution_count": 32,
   "metadata": {
    "collapsed": true
   },
   "outputs": [],
   "source": [
    "eth_close_train=training_set['eth_Close'][window_len-1:-1]\n",
    "eth_close_pred_train=eth_close*(eth_train_predict+1)"
   ]
  },
  {
   "cell_type": "code",
   "execution_count": 44,
   "metadata": {
    "collapsed": false
   },
   "outputs": [
    {
     "data": {
      "image/png": "[encoded data removed]",
      "text/plain": [
       "<matplotlib.figure.Figure at 0x7fbd7095e0f0>"
      ]
     },
     "metadata": {},
     "output_type": "display_data"
    }
   ],
   "source": [
    "fig,ax1 = plt.subplots(1,1)\n",
    "x = np.arange(0,eth_close_train.shape[0])\n",
    "ax1.plot(x,training_set['eth_Close'][window_len:],label='True')\n",
    "ax1.plot(x,eth_close_pred_train,label='Predicted')\n",
    "plt.legend()\n",
    "plt.show()"
   ]
  },
  {
   "cell_type": "code",
   "execution_count": 40,
   "metadata": {
    "collapsed": false
   },
   "outputs": [
    {
     "data": {
      "text/plain": [
       "array([   0.9929314 ,    1.0556893 ,    1.12318481,    1.13036831,\n",
       "          1.18172848,    1.14372391,    1.2575355 ,    1.37742231,\n",
       "          1.26907219,    1.47076381,    1.5591092 ,    1.57290007,\n",
       "          1.52377834,    2.00187951,    2.27231685,    2.55271471,\n",
       "          2.28916111,    2.41953686,    2.47037356,    2.49111635,\n",
       "          2.41602042,    2.30311668,    2.24648054,    2.44112271,\n",
       "          2.51817495,    2.57800631,    2.53884022,    2.52833773,\n",
       "          2.96872984,    3.30046748,    4.27847192,    4.56269221,\n",
       "          5.79277542,    5.65333067,    5.22492837,    5.33271229,\n",
       "          4.77066534,    4.34703528,    3.826958  ,    4.44262704,\n",
       "          4.79533622,    4.57351064,    4.67865196,    5.58132856,\n",
       "          5.65529112,    6.32666647,    6.1875194 ,    5.87671671,\n",
       "          6.42247119,    6.48766186,    6.34457252,    7.84538997,\n",
       "          8.85716207,    9.71894335,   10.92839527,   11.20908654,\n",
       "         11.60305767,    9.74884525,    9.68912543,   11.91509151,\n",
       "         11.43827573,   11.10349038,   13.83625605,   14.85630648,\n",
       "         13.04070091,   12.97508551,   12.41660931,   11.23159956,\n",
       "         11.00460905,   10.52106035,   10.27659246,   11.51634466,\n",
       "         11.55321606,   12.29937601,   11.49848731,   10.89410823,\n",
       "         10.89012016,   10.53896254,   11.6354368 ,   11.7230246 ,\n",
       "         11.8601739 ,   11.50865196,   11.51030908,   11.5141474 ,\n",
       "         11.49352898,   11.12221014,   10.49750338,   10.56990259,\n",
       "         10.19295848,    9.97672761,    9.37354274,    8.84661729,\n",
       "          8.2808006 ,    7.62491993,    7.80845442,    8.17447636,\n",
       "          8.26125206,    8.4899907 ,    9.15212745,    9.04313666,\n",
       "          8.82038128,    8.47853445,    8.12288804,    7.91465918,\n",
       "          8.17960409,    8.0575986 ,    7.61814354,    7.44298642,\n",
       "          7.71539545,    7.32561636,    7.42983358,    8.80730335,\n",
       "          8.98782415,   10.24146667,    9.67316818,    9.44604309,\n",
       "          9.86762586,    9.42821247,    9.36480204,    9.52361388,\n",
       "          9.29021102,    9.33107362,    9.86941696,    9.99861927,\n",
       "         10.41762825,   10.28252104,   10.05707538,   11.2501115 ,\n",
       "         12.45459098,   14.00816846,   15.33705268,   14.07722235,\n",
       "         13.98657906,   14.26456443,   13.40632935,   12.52242442,\n",
       "         12.45911472,   12.28541853,   11.51654554,   12.14798328,\n",
       "         12.52782382,   12.92139752,   14.23045072,   14.22774524,\n",
       "         13.92175607,   14.07042107,   13.83166246,   14.19204073,\n",
       "         13.99005582,   14.606662  ,   14.42071527,   14.48861938,\n",
       "         14.06629324,   14.26790829,   15.85745558,   17.91097034,\n",
       "         19.30456446,   19.43904023,   20.89454613,   14.23055353,\n",
       "         11.40499392,   11.53846715,   12.25429815,   13.05542966,\n",
       "         13.33773603,   13.57382096,   14.36175754,   14.32853606,\n",
       "         14.01950768,   13.86568443,   12.46152505,   12.52033146,\n",
       "         12.51882244,   12.3793211 ,   12.17407293,   12.00887994,\n",
       "         11.64035083,   10.8355847 ,   10.3104164 ,   10.33850383,\n",
       "         11.27990903,   11.04363923,   10.85007142,   10.50369428,\n",
       "         10.47723564,   10.54069926,   11.43638675,   11.98062581,\n",
       "         11.93224242,   11.37134867,   11.23032638,   11.54532198,\n",
       "         12.56017163,   12.8912403 ,   14.28944796,   14.61498028,\n",
       "         12.93626367,   13.72647171,   11.96509546,   12.77986656,\n",
       "         12.85849722,   12.68175536,   12.51782251,   12.12414887,\n",
       "         11.40490566,    9.55761346,   10.19616308,   10.83126936,\n",
       "         10.84414951,   10.73275024,   10.82741399,   11.26711277,\n",
       "         12.01456226,   12.17507404,   11.95531175,   11.91404126,\n",
       "         11.75704393,   11.38102657,   11.267295  ,   11.08476714,\n",
       "         10.87558508,   10.87783401,   10.77503424,   11.08220238,\n",
       "         11.11901338,   11.01025699,   11.01458932,   11.05939429,\n",
       "         11.27150037,   11.16015428,   11.18500202,   10.87805131,\n",
       "         10.96032009,   11.04747836,   11.55035443,   11.93434448,\n",
       "         11.9951948 ,   11.75794224,   11.53008678,   11.59777005,\n",
       "         11.58506972,   11.4854112 ,   11.29948092,   11.60384071,\n",
       "         12.11232401,   11.85023349,   11.80372951,   11.82062325,\n",
       "         11.79829672,   11.97801052,   12.68705006,   12.79760327,\n",
       "         12.44335083,   13.07192778,   14.55991021,   14.03868534,\n",
       "         13.41849174,   13.13946915,   12.77505906,   13.0764454 ,\n",
       "         12.69136893,   12.95939249,   13.18684582,   13.12508963,\n",
       "         13.09193082,   13.07628879,   13.11725746,   13.31886632,\n",
       "         13.18941804,   13.04481973,   12.7917616 ,   12.5846624 ,\n",
       "         12.20901851,   12.10489786,   11.71261622,   11.61927688,\n",
       "         11.91785973,   11.81890773,   11.86941527,   11.97714031,\n",
       "         11.89691339,   12.00880802,   12.42813975,   12.17265384,\n",
       "         12.0616774 ,   12.07922228,   11.96034503,   11.88665108,\n",
       "         11.87932774,   11.32247816,   11.36328017,   11.43307292,\n",
       "         11.10677333,   10.41693381,   10.88915006,   10.99631693,\n",
       "         10.73462733,   10.73504895,   10.93245171,   11.01256621,\n",
       "         10.99067041,   10.90962407,   10.88164919,   10.78938475,\n",
       "         10.67535371,   10.58358132,   10.33392006,   10.1487633 ,\n",
       "          9.99260717,    9.96556288,   10.11233829,   10.02876865,\n",
       "         10.02421758,    9.68229165,    9.52043855,    9.57241959,\n",
       "          9.55860763,    9.78225293,    9.76715587,    9.31395631,\n",
       "          9.29721933,    9.34688856,    9.11540074,    8.82655143,\n",
       "          8.3619013 ,    8.17990964,    8.43413606,    7.81540838,\n",
       "          7.88771275,    7.59670743,    6.97115812,    7.79127485,\n",
       "          7.9294133 ,    8.28585697,    8.40940291,    8.17964176,\n",
       "          8.1853935 ,    8.43195105,    8.37042217,    8.25575473,\n",
       "          7.99669894,    7.79601088,    7.80811455,    7.79272619,\n",
       "          7.6238085 ,    7.5724965 ,    7.82293362,    7.50457204,\n",
       "          7.24287055,    7.33361977,    7.1963813 ,    7.29501769,\n",
       "          7.20283224,    7.47601876,    8.22872565,    8.21853742,\n",
       "          8.05482348,    8.17174342,    8.40301862,    9.94951678,\n",
       "         11.76320688,   10.54962191,   10.416446  ,    9.98706064,\n",
       "         10.41182945,   10.47840608,   10.65711135,    9.88205408,\n",
       "          9.86412925,    9.56365697,    9.58430721,    9.70197266,\n",
       "          9.62117825,   10.23180463,   10.24090528,   10.32153699,\n",
       "         10.65318562,   10.95471566,   10.77548701,   10.90844227,\n",
       "         10.71562865,   10.54682405,   10.48378175,   10.47867049,\n",
       "         10.4967968 ,   10.49207308,   10.51771391,   10.67878332,\n",
       "         10.58388687,   10.72953815,   11.00179756,   11.33947477,\n",
       "         11.35346619,   11.39169205,   11.48062504,   11.36890707,\n",
       "         11.10834835,   11.2846834 ,   11.2892364 ,   11.40252624,\n",
       "         11.18544734,   13.14901915,   13.09415071,   12.86653656,\n",
       "         12.69190426,   12.81582717,   12.73808847,   12.46157128,\n",
       "         12.59944775,   12.49650845,   13.12337179,   13.02191552,\n",
       "         13.56029896,   14.72897304,   15.64637098,   15.85447274,\n",
       "         17.99480757,   19.30967571,   19.28682861,   19.32487854,\n",
       "         19.36299972,   19.4383502 ,   18.78800112,   17.04526646,\n",
       "         17.86733643,   19.45715245,   21.69135269,   23.83185652,\n",
       "         29.12869215,   30.77582989,   36.34480215,   41.19555447,\n",
       "         39.44133253,   40.64407146,   42.2042309 ,   42.18974597,\n",
       "         41.68594059,   42.31565785,   43.90819552,   54.75364037,\n",
       "         52.05063679,   51.05740191,   49.55844235,   51.01499689,\n",
       "         53.14314572,   52.26009589,   50.56994511,   50.47713701,\n",
       "         49.46918337,   46.05952047,   44.95951403,   45.14583979,\n",
       "         43.83675686,   43.45692085,   44.16544412,   44.01346245,\n",
       "         43.45025927,   43.93460691,   46.14476832,   50.45472616,\n",
       "         48.78941864,   49.53834025,   48.69411528,   47.81530188,\n",
       "         50.35459819,   48.28805079,   49.5726244 ,   48.470229  ,\n",
       "         48.34436687,   48.56197924,   49.6935823 ,   49.47641204,\n",
       "         52.57672756,   63.31856164,   72.65668258,   70.52846099,\n",
       "         80.69136739,   73.287488  ,   79.13014084,   80.14608581,\n",
       "         92.53568582,   95.82653106,   99.58532678,   93.16783459,\n",
       "         88.68714348,   91.91641418,   90.60275726,   90.08900128,\n",
       "         90.3261825 ,   92.81126054,   92.35182152,   92.93035416,\n",
       "         91.58955804,   91.2160963 ,   97.36380993,  135.75324855,\n",
       "        133.08932467,  163.17588666,  166.34816837,  196.66762423,\n",
       "        181.59894955,  163.97752708,  162.68492292,  164.46447491,\n",
       "        176.3971291 ,  205.98490915,  244.81956952])"
      ]
     },
     "execution_count": 40,
     "metadata": {},
     "output_type": "execute_result"
    }
   ],
   "source": [
    " ((np.transpose(eth_train_predict)+1) * training_set['eth_Close'].values[:-window_len])"
   ]
  },
  {
   "cell_type": "code",
   "execution_count": 45,
   "metadata": {
    "collapsed": false
   },
   "outputs": [
    {
     "data": {
      "image/png": "[encoded data removed]",
      "text/plain": [
       "<matplotlib.figure.Figure at 0x7fbd70ad7128>"
      ]
     },
     "metadata": {},
     "output_type": "display_data"
    }
   ],
   "source": [
    "from mpl_toolkits.axes_grid1.inset_locator import zoomed_inset_axes\n",
    "from mpl_toolkits.axes_grid1.inset_locator import mark_inset\n",
    "\n",
    "fig, ax1 = plt.subplots(1,1)\n",
    "ax1.set_xticks([datetime.date(i,j,1) for i in range(2013,2019) for j in [1,5,9]])\n",
    "ax1.set_xticklabels([datetime.date(i,j,1).strftime('%b %Y')  for i in range(2013,2019) for j in [1,5,9]])\n",
    "\n",
    "ax1.plot(model_data[model_data['Date']< split_date]['Date'][window_len:].astype(datetime.datetime),\n",
    "         training_set['eth_Close'][window_len:], label='Actual')\n",
    "\n",
    "ax1.plot(model_data[model_data['Date']< split_date]['Date'][window_len:].astype(datetime.datetime),\n",
    "         ((np.transpose(eth_train_predict)+1) * training_set['eth_Close'].values[:-window_len]), \n",
    "         label='Predicted')\n",
    "\n",
    "ax1.set_title('Training Set: Single Timepoint Prediction')\n",
    "ax1.set_ylabel('Ethereum Price ($)',fontsize=12)\n",
    "ax1.legend(bbox_to_anchor=(0.15, 1), loc=2, borderaxespad=0., prop={'size': 14})\n",
    "ax1.annotate('MAE: %.4f'%np.mean(np.abs((np.transpose(eth_train_predict)+1)-\\\n",
    "            (training_set['eth_Close'].values[window_len:])/(training_set['eth_Close'].values[:-window_len]))), \n",
    "             xy=(0.75, 0.9),  xycoords='axes fraction',\n",
    "            xytext=(0.75, 0.9), textcoords='axes fraction')\n",
    "\n",
    "plt.show()"
   ]
  },
  {
   "cell_type": "code",
   "execution_count": 48,
   "metadata": {
    "collapsed": false
   },
   "outputs": [
    {
     "data": {
      "text/plain": [
       "(507,)"
      ]
     },
     "execution_count": 48,
     "metadata": {},
     "output_type": "execute_result"
    }
   ],
   "source": []
  },
  {
   "cell_type": "code",
   "execution_count": null,
   "metadata": {
    "collapsed": true
   },
   "outputs": [],
   "source": []
  }
 ],
 "metadata": {
  "kernelspec": {
   "display_name": "Python dla",
   "language": "python",
   "name": "dla"
  },
  "language_info": {
   "codemirror_mode": {
    "name": "ipython",
    "version": 3
   },
   "file_extension": ".py",
   "mimetype": "text/x-python",
   "name": "python",
   "nbconvert_exporter": "python",
   "pygments_lexer": "ipython3",
   "version": "3.6.2"
  }
 },
 "nbformat": 4,
 "nbformat_minor": 2
}
