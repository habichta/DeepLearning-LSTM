{
 "cells": [
  {
   "cell_type": "code",
   "execution_count": 43,
   "metadata": {
    "collapsed": false
   },
   "outputs": [],
   "source": [
    "import gc\n",
    "import datetime\n",
    "import time\n",
    "import pandas as pd\n",
    "import matplotlib.pyplot as plt\n",
    "import keras\n",
    "from keras.models import Sequential\n",
    "from keras.layers import Activation, Dense\n",
    "from keras.layers import LSTM\n",
    "from keras.layers import Dropout\n",
    "\n",
    "%matplotlib inline\n",
    "from c_utils_tmp.c_utils import split_data, create_inputs, create_outputs"
   ]
  },
  {
   "cell_type": "code",
   "execution_count": 26,
   "metadata": {
    "collapsed": true
   },
   "outputs": [],
   "source": [
    "def get_market_data(market, tag=True):\n",
    "    market_data = pd.read_html(\"https://coinmarketcap.com/currencies/\" + market + \n",
    "                             \"/historical-data/?start=20130428&end=\"+time.strftime(\"%Y%m%d\"), flavor='html5lib')[0]\n",
    "    \n",
    "    \n",
    "    market_data = market_data.assign(Date=pd.to_datetime(market_data['Date']))\n",
    "    \n",
    "    market_data['Volume'] = (pd.to_numeric(market_data['Volume'], errors='coerce').fillna(0))\n",
    "    \n",
    "    if tag:\n",
    "        market_data.columns = [market_data.columns[0]] + [tag + '_' + i for i in market_data.columns[1:]]\n",
    "    \n",
    "    return market_data\n",
    "\n",
    "\n",
    "def show_plot(data, tag):\n",
    "  \n",
    "    fig, (ax1, ax2) = plt.subplots(2,1, gridspec_kw = {'height_ratios':[3, 1]})\n",
    "  \n",
    "    ax1.set_ylabel('Closing Price ($)',fontsize=12)\n",
    "    ax2.set_ylabel('Volume ($ bn)',fontsize=12)\n",
    "    ax2.set_yticks([int('%d000000000'%i) for i in range(10)])\n",
    "    ax2.set_yticklabels(range(10))\n",
    "    ax1.set_xticks([datetime.date(i,j,1) for i in range(2013,2019) for j in [1,7]])\n",
    "    ax1.set_xticklabels('')\n",
    "    ax2.set_xticks([datetime.date(i,j,1) for i in range(2013,2019) for j in [1,7]])\n",
    "    ax2.set_xticklabels([datetime.date(i,j,1).strftime('%b %Y')  for i in range(2013,2019) for j in [1,7]])\n",
    "    ax1.plot(data['Date'].astype(datetime.datetime),data[tag +'_Open'])\n",
    "    ax2.bar(data['Date'].astype(datetime.datetime).values, data[tag +'_Volume'].values)\n",
    "    fig.tight_layout()\n",
    "    plt.show()"
   ]
  },
  {
   "cell_type": "code",
   "execution_count": 27,
   "metadata": {
    "collapsed": false
   },
   "outputs": [],
   "source": [
    "btc_data = get_market_data(\"bitcoin\", tag='btc')"
   ]
  },
  {
   "cell_type": "code",
   "execution_count": 28,
   "metadata": {
    "collapsed": false
   },
   "outputs": [
    {
     "data": {
      "text/html": [
       "<div>\n",
       "<style>\n",
       "    .dataframe thead tr:only-child th {\n",
       "        text-align: right;\n",
       "    }\n",
       "\n",
       "    .dataframe thead th {\n",
       "        text-align: left;\n",
       "    }\n",
       "\n",
       "    .dataframe tbody tr th {\n",
       "        vertical-align: top;\n",
       "    }\n",
       "</style>\n",
       "<table border=\"1\" class=\"dataframe\">\n",
       "  <thead>\n",
       "    <tr style=\"text-align: right;\">\n",
       "      <th></th>\n",
       "      <th>Date</th>\n",
       "      <th>btc_Open</th>\n",
       "      <th>btc_High</th>\n",
       "      <th>btc_Low</th>\n",
       "      <th>btc_Close</th>\n",
       "      <th>btc_Volume</th>\n",
       "      <th>btc_Market Cap</th>\n",
       "    </tr>\n",
       "  </thead>\n",
       "  <tbody>\n",
       "    <tr>\n",
       "      <th>0</th>\n",
       "      <td>2018-03-14</td>\n",
       "      <td>9214.65</td>\n",
       "      <td>9355.85</td>\n",
       "      <td>8068.59</td>\n",
       "      <td>8269.81</td>\n",
       "      <td>6.438230e+09</td>\n",
       "      <td>155891000000</td>\n",
       "    </tr>\n",
       "    <tr>\n",
       "      <th>1</th>\n",
       "      <td>2018-03-13</td>\n",
       "      <td>9173.04</td>\n",
       "      <td>9470.38</td>\n",
       "      <td>8958.19</td>\n",
       "      <td>9194.85</td>\n",
       "      <td>5.991140e+09</td>\n",
       "      <td>155168000000</td>\n",
       "    </tr>\n",
       "    <tr>\n",
       "      <th>2</th>\n",
       "      <td>2018-03-12</td>\n",
       "      <td>9602.93</td>\n",
       "      <td>9937.50</td>\n",
       "      <td>8956.43</td>\n",
       "      <td>9205.12</td>\n",
       "      <td>6.457400e+09</td>\n",
       "      <td>162421000000</td>\n",
       "    </tr>\n",
       "    <tr>\n",
       "      <th>3</th>\n",
       "      <td>2018-03-11</td>\n",
       "      <td>8852.78</td>\n",
       "      <td>9711.89</td>\n",
       "      <td>8607.12</td>\n",
       "      <td>9578.63</td>\n",
       "      <td>6.296370e+09</td>\n",
       "      <td>149716000000</td>\n",
       "    </tr>\n",
       "    <tr>\n",
       "      <th>4</th>\n",
       "      <td>2018-03-10</td>\n",
       "      <td>9350.59</td>\n",
       "      <td>9531.32</td>\n",
       "      <td>8828.47</td>\n",
       "      <td>8866.00</td>\n",
       "      <td>5.386320e+09</td>\n",
       "      <td>158119000000</td>\n",
       "    </tr>\n",
       "  </tbody>\n",
       "</table>\n",
       "</div>"
      ],
      "text/plain": [
       "        Date  btc_Open  btc_High  btc_Low  btc_Close    btc_Volume  \\\n",
       "0 2018-03-14   9214.65   9355.85  8068.59    8269.81  6.438230e+09   \n",
       "1 2018-03-13   9173.04   9470.38  8958.19    9194.85  5.991140e+09   \n",
       "2 2018-03-12   9602.93   9937.50  8956.43    9205.12  6.457400e+09   \n",
       "3 2018-03-11   8852.78   9711.89  8607.12    9578.63  6.296370e+09   \n",
       "4 2018-03-10   9350.59   9531.32  8828.47    8866.00  5.386320e+09   \n",
       "\n",
       "   btc_Market Cap  \n",
       "0    155891000000  \n",
       "1    155168000000  \n",
       "2    162421000000  \n",
       "3    149716000000  \n",
       "4    158119000000  "
      ]
     },
     "execution_count": 28,
     "metadata": {},
     "output_type": "execute_result"
    }
   ],
   "source": [
    "btc_data.head(5)"
   ]
  },
  {
   "cell_type": "code",
   "execution_count": 29,
   "metadata": {
    "collapsed": false
   },
   "outputs": [
    {
     "data": {
      "image/png": "[encoded data removed]",
      "text/plain": [
       "<matplotlib.figure.Figure at 0x7f815e41d8d0>"
      ]
     },
     "metadata": {},
     "output_type": "display_data"
    }
   ],
   "source": [
    "show_plot(btc_data,'btc')"
   ]
  },
  {
   "cell_type": "code",
   "execution_count": 31,
   "metadata": {
    "collapsed": true
   },
   "outputs": [],
   "source": [
    "train_set, test_set = split_data(btc_data)"
   ]
  },
  {
   "cell_type": "code",
   "execution_count": 34,
   "metadata": {
    "collapsed": false
   },
   "outputs": [],
   "source": [
    "train_set = train_set.drop('Date',1)\n",
    "test_set = test_set.drop('Date',1)"
   ]
  },
  {
   "cell_type": "code",
   "execution_count": 46,
   "metadata": {
    "collapsed": false,
    "scrolled": false
   },
   "outputs": [
    {
     "name": "stdout",
     "output_type": "stream",
     "text": [
      "Index(['btc_Open', 'btc_High', 'btc_Low', 'btc_Close', 'btc_Volume',\n",
      "       'btc_Market Cap'],\n",
      "      dtype='object')\n"
     ]
    },
    {
     "ename": "TypeError",
     "evalue": "can only concatenate list (not \"str\") to list",
     "output_type": "error",
     "traceback": [
      "\u001b[0;31m---------------------------------------------------------------------------\u001b[0m",
      "\u001b[0;31mTypeError\u001b[0m                                 Traceback (most recent call last)",
      "\u001b[0;32m<ipython-input-46-0a3224ec4105>\u001b[0m in \u001b[0;36m<module>\u001b[0;34m()\u001b[0m\n\u001b[1;32m      1\u001b[0m \u001b[0mprint\u001b[0m\u001b[0;34m(\u001b[0m\u001b[0mtrain_set\u001b[0m\u001b[0;34m.\u001b[0m\u001b[0mcolumns\u001b[0m\u001b[0;34m)\u001b[0m\u001b[0;34m\u001b[0m\u001b[0m\n\u001b[1;32m      2\u001b[0m \u001b[0mX_train_btc\u001b[0m \u001b[0;34m=\u001b[0m \u001b[0mcreate_inputs\u001b[0m\u001b[0;34m(\u001b[0m\u001b[0mtrain_set\u001b[0m\u001b[0;34m,\u001b[0m\u001b[0mwindow_len\u001b[0m\u001b[0;34m=\u001b[0m\u001b[0;36m5\u001b[0m\u001b[0;34m,\u001b[0m\u001b[0mcoins\u001b[0m\u001b[0;34m=\u001b[0m\u001b[0;34m[\u001b[0m\u001b[0;34m'btc'\u001b[0m\u001b[0;34m]\u001b[0m\u001b[0;34m)\u001b[0m\u001b[0;34m\u001b[0m\u001b[0m\n\u001b[0;32m----> 3\u001b[0;31m \u001b[0mY_train_btc\u001b[0m \u001b[0;34m=\u001b[0m \u001b[0mcreate_outputs\u001b[0m\u001b[0;34m(\u001b[0m\u001b[0mtest_set\u001b[0m\u001b[0;34m,\u001b[0m \u001b[0mwindow_len\u001b[0m\u001b[0;34m=\u001b[0m\u001b[0;36m5\u001b[0m\u001b[0;34m,\u001b[0m \u001b[0mcoin\u001b[0m\u001b[0;34m=\u001b[0m\u001b[0;34m[\u001b[0m\u001b[0;34m'btc'\u001b[0m\u001b[0;34m]\u001b[0m\u001b[0;34m)\u001b[0m\u001b[0;34m\u001b[0m\u001b[0m\n\u001b[0m",
      "\u001b[0;32m/media/nox/OS/Linux/Documents/Projects/DataScience/CryptoPredict/c_utils_tmp/c_utils.py\u001b[0m in \u001b[0;36mcreate_outputs\u001b[0;34m(data, coin, window_len)\u001b[0m\n\u001b[1;32m     76\u001b[0m   \u001b[0mReturn\u001b[0m\u001b[0;34m:\u001b[0m \u001b[0mNormalized\u001b[0m \u001b[0mnumpy\u001b[0m \u001b[0marray\u001b[0m \u001b[0;32mfor\u001b[0m \u001b[0;34m'Close'\u001b[0m \u001b[0mprices\u001b[0m \u001b[0mof\u001b[0m \u001b[0mthe\u001b[0m \u001b[0mgiven\u001b[0m \u001b[0mcoin\u001b[0m\u001b[0;34m\u001b[0m\u001b[0m\n\u001b[1;32m     77\u001b[0m   \"\"\"\n\u001b[0;32m---> 78\u001b[0;31m   \u001b[0;32mreturn\u001b[0m \u001b[0;34m(\u001b[0m\u001b[0mdata\u001b[0m\u001b[0;34m[\u001b[0m\u001b[0mcoin\u001b[0m \u001b[0;34m+\u001b[0m \u001b[0;34m'_Close'\u001b[0m\u001b[0;34m]\u001b[0m\u001b[0;34m[\u001b[0m\u001b[0mwindow_len\u001b[0m\u001b[0;34m:\u001b[0m\u001b[0;34m]\u001b[0m\u001b[0;34m.\u001b[0m\u001b[0mvalues\u001b[0m \u001b[0;34m/\u001b[0m \u001b[0mdata\u001b[0m\u001b[0;34m[\u001b[0m\u001b[0mcoin\u001b[0m \u001b[0;34m+\u001b[0m \u001b[0;34m'_Close'\u001b[0m\u001b[0;34m]\u001b[0m\u001b[0;34m[\u001b[0m\u001b[0;34m:\u001b[0m\u001b[0;34m-\u001b[0m\u001b[0mwindow_len\u001b[0m\u001b[0;34m]\u001b[0m\u001b[0;34m.\u001b[0m\u001b[0mvalues\u001b[0m\u001b[0;34m)\u001b[0m \u001b[0;34m-\u001b[0m \u001b[0;36m1\u001b[0m\u001b[0;34m\u001b[0m\u001b[0m\n\u001b[0m\u001b[1;32m     79\u001b[0m \u001b[0;34m\u001b[0m\u001b[0m\n\u001b[1;32m     80\u001b[0m \u001b[0;34m\u001b[0m\u001b[0m\n",
      "\u001b[0;31mTypeError\u001b[0m: can only concatenate list (not \"str\") to list"
     ]
    }
   ],
   "source": [
    "print(train_set.columns)\n",
    "X_train_btc = create_inputs(train_set,window_len=5,coins=['btc'])\n",
    "Y_train_btc = create_outputs(test_set, window_len=5, coin=['btc'])"
   ]
  },
  {
   "cell_type": "code",
   "execution_count": 59,
   "metadata": {
    "collapsed": false
   },
   "outputs": [
    {
     "data": {
      "text/plain": [
       "array([ 0.91472605,  0.86327245,  0.84910073,  0.79817592,  0.70827596,\n",
       "        0.96499488,  1.0942617 ,  1.06720175,  1.09395415,  1.26488307,\n",
       "        1.01084182,  0.98152685,  0.97267589,  1.03882736,  0.98937022,\n",
       "        1.02846737,  1.10444774,  1.13389303,  0.98507463,  1.2709628 ,\n",
       "        1.26864666,  1.18779649,  1.13234612,  1.19904932,  0.98391956,\n",
       "        1.00830593,  1.04538832,  1.09542644,  1.10146184,  1.10432379,\n",
       "        1.0804219 ,  1.03100559,  1.03791292,  1.01563379,  1.00475353,\n",
       "        0.98690499,  1.0129771 ,  0.96757765,  0.99533302,  1.04691615,\n",
       "        1.06008379,  1.04681613,  1.08148028,  0.88975602,  0.85200193,\n",
       "        0.82532193,  0.86800744,  0.87260393,  0.96234302,  0.96589523,\n",
       "        1.10297491,  1.04604592,  0.985361  ,  1.03235507,  1.14041221,\n",
       "        1.03430062,  1.0344389 ,  1.07396893,  1.17042471,  1.0625331 ,\n",
       "        0.96591127,  1.04063742,  1.09007022,  1.0462576 ,  1.03158658,\n",
       "        1.11347565,  1.09310747,  1.16272669,  1.19217949,  1.21241763,\n",
       "        1.2224448 ,  1.15857664,  1.06529333,  1.02218226,  0.98921445,\n",
       "        1.00263404,  0.98441911,  0.92650556,  1.06670522,  1.04222068,\n",
       "        0.96497579,  1.01172909,  1.09618999,  0.97586074,  1.01943511,\n",
       "        1.09270202,  1.02184809,  0.96339834,  0.96726511,  0.9893128 ,\n",
       "        0.95672591,  1.00142857,  1.0596337 ,  1.09372569,  1.00880474,\n",
       "        1.01630924,  1.00180694,  0.92907949,  1.04304393,  1.07490098,\n",
       "        1.01493753,  0.97152079,  1.00048628,  0.80919762,  0.80769766,\n",
       "        0.87972217,  0.91001808,  0.90707761,  0.95290381,  1.01057015,\n",
       "        0.90223903,  0.89333602,  0.92522979,  0.83962072,  0.79485026,\n",
       "        0.91660926,  1.0396346 ,  0.77619875,  1.10522052,  1.16562098,\n",
       "        1.40107465,  1.26105555,  1.70763344,  1.28021462,  1.24435883,\n",
       "        1.12828151,  1.02359615,  0.89165117,  0.79956714,  0.94418769,\n",
       "        1.05725789,  1.28882992,  1.35484438,  1.49424975,  1.15239014,\n",
       "        1.0806805 ,  0.98332132,  0.95703342,  0.96034812,  0.97096825,\n",
       "        0.70753389,  0.68398456,  0.77311885,  0.76993094,  0.77839672,\n",
       "        0.73936004,  0.75506619,  0.88185305,  0.63791092,  0.60936008,\n",
       "        0.70739468,  0.71876978,  0.57901245,  0.73221434,  0.77788379,\n",
       "        0.78148104,  0.80702047,  0.82998257,  0.82260705,  0.76655765,\n",
       "        0.75084196,  0.67559199,  0.63603561,  0.69572552,  0.78544762,\n",
       "        0.8318382 ,  0.87285028,  0.95043013,  0.96280671,  0.95275972,\n",
       "        0.86921569,  0.93359004,  0.96986154,  1.07590028,  0.98635716,\n",
       "        1.02757726,  0.9352938 ,  0.86979771,  0.73008145,  0.75479975,\n",
       "        0.78233906,  0.83179658,  0.81498666,  0.88567581,  0.92437607,\n",
       "        0.91827429,  0.89913247,  0.93004555,  0.91218417,  0.93897478,\n",
       "        0.9854851 ,  0.98437859,  0.98714515,  0.98119048,  0.89908618,\n",
       "        1.02465116,  1.03461688,  1.06456864,  1.09018847,  1.17217208,\n",
       "        0.97125132,  0.96406015,  0.92653269,  0.93448583,  0.96516669,\n",
       "        0.99260009,  0.99079707,  1.01886051,  1.04382692,  1.01967162,\n",
       "        1.03366554,  1.02621222,  0.99668338,  1.02669811,  1.01116512,\n",
       "        1.02679927,  0.96578968,  0.98367126,  0.90131871,  0.93254713,\n",
       "        0.88096118,  1.00412993,  0.99708914,  1.12419859,  1.09424084,\n",
       "        1.16105749,  1.07055288,  1.05325864,  0.89485998,  0.90261318,\n",
       "        0.91441376,  0.88703362,  0.91475017,  0.98088079,  0.96640026,\n",
       "        0.95770751,  1.02698651,  0.9925477 ,  0.99125364,  0.95780591,\n",
       "        0.93685514,  0.88394161,  0.90750825,  0.94588235,  0.96035242,\n",
       "        0.93955947,  0.96339114,  0.93644877,  0.91329069,  0.94495413,\n",
       "        1.00103151,  1.01666667,  1.03126214,  1.02276265,  1.00970874,\n",
       "        0.97892272,  0.97423888,  0.99877613,  1.02710671,  0.97307692,\n",
       "        0.95464115,  0.905     ,  0.90508059,  0.89730531,  0.93389328,\n",
       "        0.95789896,  0.97333192,  0.94521975,  0.92249742,  0.97524072,\n",
       "        0.94788614,  1.07521013,  1.07371089,  1.10079427,  1.02734078,\n",
       "        1.08335173,  0.95015228,  0.91308363,  0.88170732,  0.80990601,\n",
       "        0.77978192,  0.79666631,  0.78984041,  0.78872752,  1.05007172,\n",
       "        1.01319916,  1.20882511,  1.25284576,  1.41180769,  1.17956041,\n",
       "        1.22081775,  1.12548541,  1.18114708,  1.07597557,  1.08158754,\n",
       "        1.13681986,  1.06762618,  1.05288462,  1.05964406,  1.05363052,\n",
       "        0.99814126,  0.93905817,  0.90876712,  0.90776214,  0.92360277,\n",
       "        0.96834264,  1.06342183,  1.09436238,  1.06360636,  1.00020004,\n",
       "        1.04134615,  1.0309755 ,  1.0835629 ,  1.1438646 ,  1.2142    ,\n",
       "        1.12853186,  1.0967713 ,  1.09576271,  1.06041924,  1.06078076,\n",
       "        1.08247423,  1.05486957,  1.00348028,  1.03472868,  1.02468944,\n",
       "        1.00680272,  0.98217054,  0.95483622,  0.92058735,  0.92438248,\n",
       "        0.91584084,  0.97474349,  0.99297764,  0.96647135,  0.93622951,\n",
       "        0.91400935,  0.95530364,  0.93480735,  0.97036039,  1.02609   ,\n",
       "        1.01049327,  0.96262078,  0.96956522,  0.97448802,  0.98899317,\n",
       "        0.99849117,  0.86070265,  0.94358744,  1.04176313,  1.19920628,\n",
       "        1.2848    ,  1.37299233])"
      ]
     },
     "execution_count": 59,
     "metadata": {},
     "output_type": "execute_result"
    }
   ],
   "source": [
    "(test_set['btc_Close'][5:].values / test_set['btc_Close'][:-5] .values)"
   ]
  },
  {
   "cell_type": "code",
   "execution_count": 58,
   "metadata": {
    "collapsed": false
   },
   "outputs": [
    {
     "data": {
      "text/plain": [
       "array([  501.56,   479.64,   495.96,   527.39,   515.59,   458.79,\n",
       "         414.06,   421.12,   420.95,   365.18,   442.73,   453.09,\n",
       "         449.42,   460.5 ,   461.91,   447.53,   444.72,   437.14,\n",
       "         478.38,   457.  ,   460.27,   491.17,   495.67,   471.24,\n",
       "         580.83,   583.92,   583.41,   561.27,   565.04,   571.49,\n",
       "         588.77,   609.89,   614.83,   622.37,   631.11,   636.12,\n",
       "         628.8 ,   638.14,   632.1 ,   634.11,   627.79,   636.96,\n",
       "         617.45,   629.15,   663.86,   665.51,   666.78,   667.76,\n",
       "         559.79,   565.61,   549.26,   578.77,   582.69,   538.71,\n",
       "         546.32,   605.82,   605.42,   574.16,   556.14,   623.03,\n",
       "         626.6 ,   626.27,   616.63,   650.92,   661.99,   605.24,\n",
       "         651.72,   672.17,   681.03,   682.9 ,   673.92,   712.4 ,\n",
       "         781.55,   811.91,   827.96,   823.83,   825.37,   832.58,\n",
       "         829.92,   819.03,   826.  ,   812.51,   771.39,   885.28,\n",
       "         853.61,   797.07,   822.04,   845.59,   863.91,   870.2 ,\n",
       "         870.96,   840.  ,   814.64,   835.63,   860.9 ,   833.27,\n",
       "         841.2 ,   863.22,   913.95,   868.48,   846.86,   842.72,\n",
       "         802.  ,   953.29,   933.53,   859.51,   818.72,   802.39,\n",
       "         771.4 ,   754.01,   756.13,   745.05,   727.83,   735.07,\n",
       "         761.98,   682.21,   665.58,   673.41,   617.18,   605.66,\n",
       "         625.32,   691.96,   522.7 ,   682.12,   705.97,   876.12,\n",
       "         872.6 ,   892.58,   873.26,   878.48,   988.51,   893.19,\n",
       "         795.87,   698.23,   829.45,  1045.11,  1151.17,  1078.28,\n",
       "        1043.33,   955.85,  1129.43,  1131.97,  1031.95,  1001.96,\n",
       "         928.1 ,   799.11,   774.25,   797.82,   771.44,   722.43,\n",
       "         590.83,   584.61,   703.56,   492.11,   440.22,   417.95,\n",
       "         420.2 ,   407.37,   360.33,   342.44,   326.62,   339.11,\n",
       "         338.11,   296.41,   262.5 ,   245.24,   229.1 ,   215.05,\n",
       "         206.22,   206.18,   204.  ,   199.97,   204.39,   198.55,\n",
       "         196.44,   177.32,   186.69,   198.23,   213.62,   193.76,\n",
       "         182.21,   174.61,   172.42,   155.96,   146.25,   142.55,\n",
       "         145.24,   140.52,   138.13,   135.19,   130.9 ,   130.59,\n",
       "         130.69,   126.  ,   126.94,   129.  ,   128.55,   129.01,\n",
       "         123.63,   114.13,   132.18,   133.  ,   137.34,   134.78,\n",
       "         133.78,   128.38,   128.22,   127.25,   125.95,   129.12,\n",
       "         127.43,   127.04,   129.65,   131.47,   131.66,   131.72,\n",
       "         130.37,   129.22,   134.98,   133.13,   135.25,   125.91,\n",
       "         127.11,   121.66,   124.15,   119.15,   126.43,   126.74,\n",
       "         136.77,   135.85,   138.34,   135.35,   133.49,   122.39,\n",
       "         122.62,   126.5 ,   120.06,   122.11,   120.05,   118.5 ,\n",
       "         121.15,   123.3 ,   121.2 ,   119.  ,   113.5 ,   113.5 ,\n",
       "         108.99,   109.99,   112.56,   109.  ,   106.64,   105.  ,\n",
       "         103.  ,   102.8 ,   103.  ,   106.75,   106.75,   106.22,\n",
       "         105.14,   104.  ,   104.5 ,   104.  ,   106.09,   107.99,\n",
       "         101.2 ,    99.76,    94.12,    96.02,    96.9 ,    94.51,\n",
       "          95.56,    91.61,    90.76,    89.39,    92.17,    90.58,\n",
       "          98.5 ,    97.45,    98.4 ,    94.69,    98.13,    93.59,\n",
       "          88.98,    86.76,    76.69,    76.52,    74.56,    70.28,\n",
       "          68.43,    80.53,    77.53,    90.13,    88.05,    96.61,\n",
       "          94.99,    94.65,   101.44,   104.  ,   103.95,   102.74,\n",
       "         107.6 ,   108.3 ,   109.5 ,   110.15,   108.25,   107.4 ,\n",
       "         101.7 ,    99.51,    99.99,    99.98,   104.  ,   108.15,\n",
       "         108.9 ,   106.35,   100.  ,   108.3 ,   111.5 ,   118.  ,\n",
       "         121.65,   121.42,   122.22,   122.29,   129.3 ,   129.  ,\n",
       "         128.8 ,   132.3 ,   129.  ,   129.75,   133.48,   131.98,\n",
       "         133.2 ,   126.7 ,   123.89,   122.88,   122.  ,   121.99,\n",
       "         123.5 ,   123.02,   118.76,   114.22,   111.5 ,   117.98,\n",
       "         115.  ,   115.24,   117.2 ,   112.67,   113.57,   111.5 ,\n",
       "         112.3 ,   115.91,   112.5 ,    97.75,   105.21,   116.99,\n",
       "         139.  ,   144.54,   134.21])"
      ]
     },
     "execution_count": 58,
     "metadata": {},
     "output_type": "execute_result"
    }
   ],
   "source": [
    "test_set['btc_Close'][:] .values"
   ]
  },
  {
   "cell_type": "code",
   "execution_count": null,
   "metadata": {
    "collapsed": true
   },
   "outputs": [],
   "source": []
  }
 ],
 "metadata": {
  "kernelspec": {
   "display_name": "Python dla",
   "language": "python",
   "name": "dla"
  },
  "language_info": {
   "codemirror_mode": {
    "name": "ipython",
    "version": 3
   },
   "file_extension": ".py",
   "mimetype": "text/x-python",
   "name": "python",
   "nbconvert_exporter": "python",
   "pygments_lexer": "ipython3",
   "version": "3.6.2"
  }
 },
 "nbformat": 4,
 "nbformat_minor": 2
}
